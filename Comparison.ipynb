{
 "cells": [
  {
   "cell_type": "code",
   "execution_count": 43,
   "id": "intermediate-namibia",
   "metadata": {
    "ExecuteTime": {
     "end_time": "2021-02-01T08:31:54.330193Z",
     "start_time": "2021-02-01T08:31:54.327417Z"
    }
   },
   "outputs": [],
   "source": [
    "from sklearn import datasets\n",
    "import pandas as pd\n",
    "pd.set_option(\"display.max_columns\", 100)\n",
    "from model_comparison import ModelComparison, TaskNames, ModelNames\n"
   ]
  },
  {
   "cell_type": "code",
   "execution_count": 2,
   "id": "outstanding-marker",
   "metadata": {
    "ExecuteTime": {
     "end_time": "2021-02-01T08:30:50.981908Z",
     "start_time": "2021-02-01T08:30:50.980038Z"
    }
   },
   "outputs": [],
   "source": [
    "comparison_datasets = {}"
   ]
  },
  {
   "cell_type": "markdown",
   "id": "liberal-radio",
   "metadata": {},
   "source": [
    "# California housing"
   ]
  },
  {
   "cell_type": "code",
   "execution_count": 3,
   "id": "future-creature",
   "metadata": {
    "ExecuteTime": {
     "end_time": "2021-02-01T08:30:51.023354Z",
     "start_time": "2021-02-01T08:30:50.990098Z"
    }
   },
   "outputs": [
    {
     "data": {
      "text/html": [
       "<div>\n",
       "<style scoped>\n",
       "    .dataframe tbody tr th:only-of-type {\n",
       "        vertical-align: middle;\n",
       "    }\n",
       "\n",
       "    .dataframe tbody tr th {\n",
       "        vertical-align: top;\n",
       "    }\n",
       "\n",
       "    .dataframe thead th {\n",
       "        text-align: right;\n",
       "    }\n",
       "</style>\n",
       "<table border=\"1\" class=\"dataframe\">\n",
       "  <thead>\n",
       "    <tr style=\"text-align: right;\">\n",
       "      <th></th>\n",
       "      <th>MedInc</th>\n",
       "      <th>HouseAge</th>\n",
       "      <th>AveRooms</th>\n",
       "      <th>AveBedrms</th>\n",
       "      <th>Population</th>\n",
       "      <th>AveOccup</th>\n",
       "      <th>Latitude</th>\n",
       "      <th>Longitude</th>\n",
       "    </tr>\n",
       "  </thead>\n",
       "  <tbody>\n",
       "    <tr>\n",
       "      <th>0</th>\n",
       "      <td>8.3252</td>\n",
       "      <td>41.0</td>\n",
       "      <td>6.984127</td>\n",
       "      <td>1.023810</td>\n",
       "      <td>322.0</td>\n",
       "      <td>2.555556</td>\n",
       "      <td>37.88</td>\n",
       "      <td>-122.23</td>\n",
       "    </tr>\n",
       "    <tr>\n",
       "      <th>1</th>\n",
       "      <td>8.3014</td>\n",
       "      <td>21.0</td>\n",
       "      <td>6.238137</td>\n",
       "      <td>0.971880</td>\n",
       "      <td>2401.0</td>\n",
       "      <td>2.109842</td>\n",
       "      <td>37.86</td>\n",
       "      <td>-122.22</td>\n",
       "    </tr>\n",
       "    <tr>\n",
       "      <th>2</th>\n",
       "      <td>7.2574</td>\n",
       "      <td>52.0</td>\n",
       "      <td>8.288136</td>\n",
       "      <td>1.073446</td>\n",
       "      <td>496.0</td>\n",
       "      <td>2.802260</td>\n",
       "      <td>37.85</td>\n",
       "      <td>-122.24</td>\n",
       "    </tr>\n",
       "    <tr>\n",
       "      <th>3</th>\n",
       "      <td>5.6431</td>\n",
       "      <td>52.0</td>\n",
       "      <td>5.817352</td>\n",
       "      <td>1.073059</td>\n",
       "      <td>558.0</td>\n",
       "      <td>2.547945</td>\n",
       "      <td>37.85</td>\n",
       "      <td>-122.25</td>\n",
       "    </tr>\n",
       "    <tr>\n",
       "      <th>4</th>\n",
       "      <td>3.8462</td>\n",
       "      <td>52.0</td>\n",
       "      <td>6.281853</td>\n",
       "      <td>1.081081</td>\n",
       "      <td>565.0</td>\n",
       "      <td>2.181467</td>\n",
       "      <td>37.85</td>\n",
       "      <td>-122.25</td>\n",
       "    </tr>\n",
       "  </tbody>\n",
       "</table>\n",
       "</div>"
      ],
      "text/plain": [
       "   MedInc  HouseAge  AveRooms  AveBedrms  Population  AveOccup  Latitude  \\\n",
       "0  8.3252      41.0  6.984127   1.023810       322.0  2.555556     37.88   \n",
       "1  8.3014      21.0  6.238137   0.971880      2401.0  2.109842     37.86   \n",
       "2  7.2574      52.0  8.288136   1.073446       496.0  2.802260     37.85   \n",
       "3  5.6431      52.0  5.817352   1.073059       558.0  2.547945     37.85   \n",
       "4  3.8462      52.0  6.281853   1.081081       565.0  2.181467     37.85   \n",
       "\n",
       "   Longitude  \n",
       "0    -122.23  \n",
       "1    -122.22  \n",
       "2    -122.24  \n",
       "3    -122.25  \n",
       "4    -122.25  "
      ]
     },
     "execution_count": 3,
     "metadata": {},
     "output_type": "execute_result"
    }
   ],
   "source": [
    "california_housing = datasets.fetch_california_housing(as_frame=True)\n",
    "california_housing.data.head()"
   ]
  },
  {
   "cell_type": "code",
   "execution_count": 4,
   "id": "integrated-regulation",
   "metadata": {
    "ExecuteTime": {
     "end_time": "2021-02-01T08:30:51.063843Z",
     "start_time": "2021-02-01T08:30:51.059561Z"
    }
   },
   "outputs": [
    {
     "data": {
      "text/plain": [
       "MedInc        float64\n",
       "HouseAge      float64\n",
       "AveRooms      float64\n",
       "AveBedrms     float64\n",
       "Population    float64\n",
       "AveOccup      float64\n",
       "Latitude      float64\n",
       "Longitude     float64\n",
       "dtype: object"
      ]
     },
     "execution_count": 4,
     "metadata": {},
     "output_type": "execute_result"
    }
   ],
   "source": [
    "california_housing.data.dtypes"
   ]
  },
  {
   "cell_type": "code",
   "execution_count": 5,
   "id": "institutional-typing",
   "metadata": {
    "ExecuteTime": {
     "end_time": "2021-02-01T08:30:51.099009Z",
     "start_time": "2021-02-01T08:30:51.095148Z"
    }
   },
   "outputs": [
    {
     "data": {
      "text/plain": [
       "0    4.526\n",
       "1    3.585\n",
       "2    3.521\n",
       "3    3.413\n",
       "4    3.422\n",
       "Name: MedHouseVal, dtype: float64"
      ]
     },
     "execution_count": 5,
     "metadata": {},
     "output_type": "execute_result"
    }
   ],
   "source": [
    "california_housing.target.head()"
   ]
  },
  {
   "cell_type": "code",
   "execution_count": 6,
   "id": "comfortable-planner",
   "metadata": {
    "ExecuteTime": {
     "end_time": "2021-02-01T08:30:51.134394Z",
     "start_time": "2021-02-01T08:30:51.132056Z"
    }
   },
   "outputs": [],
   "source": [
    "comparison_datasets['california'] = {\"task\": TaskNames.regression, \n",
    "                                     \"features\": california_housing.data, \n",
    "                                     \"target\": california_housing.target,\n",
    "                                     \"cv\": 4}"
   ]
  },
  {
   "cell_type": "markdown",
   "id": "bright-southwest",
   "metadata": {},
   "source": [
    "# Covtype"
   ]
  },
  {
   "cell_type": "code",
   "execution_count": 7,
   "id": "southeast-fabric",
   "metadata": {
    "ExecuteTime": {
     "end_time": "2021-02-01T08:30:51.603971Z",
     "start_time": "2021-02-01T08:30:51.215559Z"
    }
   },
   "outputs": [],
   "source": [
    "covtype_features, covtype_target = datasets.fetch_covtype(return_X_y=True)"
   ]
  },
  {
   "cell_type": "code",
   "execution_count": 8,
   "id": "endless-couple",
   "metadata": {
    "ExecuteTime": {
     "end_time": "2021-02-01T08:30:51.650807Z",
     "start_time": "2021-02-01T08:30:51.647960Z"
    }
   },
   "outputs": [
    {
     "data": {
      "text/plain": [
       "(581012, 54)"
      ]
     },
     "execution_count": 8,
     "metadata": {},
     "output_type": "execute_result"
    }
   ],
   "source": [
    "covtype_features.shape"
   ]
  },
  {
   "cell_type": "code",
   "execution_count": 9,
   "id": "driving-mandate",
   "metadata": {
    "ExecuteTime": {
     "end_time": "2021-02-01T08:30:51.701589Z",
     "start_time": "2021-02-01T08:30:51.698783Z"
    }
   },
   "outputs": [
    {
     "data": {
      "text/plain": [
       "array([5, 5, 2, ..., 3, 3, 3], dtype=int32)"
      ]
     },
     "execution_count": 9,
     "metadata": {},
     "output_type": "execute_result"
    }
   ],
   "source": [
    "covtype_target"
   ]
  },
  {
   "cell_type": "code",
   "execution_count": 10,
   "id": "moderate-software",
   "metadata": {
    "ExecuteTime": {
     "end_time": "2021-02-01T08:30:51.748335Z",
     "start_time": "2021-02-01T08:30:51.745723Z"
    },
    "scrolled": true
   },
   "outputs": [],
   "source": [
    "comparison_datasets['covtype'] = {\"task\": TaskNames.classification, \n",
    "                                     \"features\": pd.DataFrame(covtype_features), \n",
    "                                     \"target\": pd.Series(covtype_target),\n",
    "                                     \"cv\": 2}"
   ]
  },
  {
   "cell_type": "markdown",
   "id": "varying-binding",
   "metadata": {},
   "source": [
    "# Adult"
   ]
  },
  {
   "cell_type": "code",
   "execution_count": 11,
   "id": "diverse-boxing",
   "metadata": {
    "ExecuteTime": {
     "end_time": "2021-02-01T08:30:53.136272Z",
     "start_time": "2021-02-01T08:30:52.213582Z"
    }
   },
   "outputs": [
    {
     "name": "stderr",
     "output_type": "stream",
     "text": [
      "/Users/victorlandeau/Library/Caches/pypoetry/virtualenvs/tabular-models-benchmark-BMhtYu43-py3.8/lib/python3.8/site-packages/sklearn/datasets/_openml.py:373: UserWarning: Multiple active versions of the dataset matching the name adult exist. Versions may be fundamentally different, returning version 1.\n",
      "  warn(\"Multiple active versions of the dataset matching the name\"\n"
     ]
    }
   ],
   "source": [
    "adult = datasets.fetch_openml('adult', as_frame=True)"
   ]
  },
  {
   "cell_type": "code",
   "execution_count": 12,
   "id": "cognitive-commissioner",
   "metadata": {
    "ExecuteTime": {
     "end_time": "2021-02-01T08:30:53.623482Z",
     "start_time": "2021-02-01T08:30:53.603622Z"
    }
   },
   "outputs": [
    {
     "data": {
      "text/html": [
       "<div>\n",
       "<style scoped>\n",
       "    .dataframe tbody tr th:only-of-type {\n",
       "        vertical-align: middle;\n",
       "    }\n",
       "\n",
       "    .dataframe tbody tr th {\n",
       "        vertical-align: top;\n",
       "    }\n",
       "\n",
       "    .dataframe thead th {\n",
       "        text-align: right;\n",
       "    }\n",
       "</style>\n",
       "<table border=\"1\" class=\"dataframe\">\n",
       "  <thead>\n",
       "    <tr style=\"text-align: right;\">\n",
       "      <th></th>\n",
       "      <th>age</th>\n",
       "      <th>workclass</th>\n",
       "      <th>fnlwgt</th>\n",
       "      <th>education</th>\n",
       "      <th>education-num</th>\n",
       "      <th>marital-status</th>\n",
       "      <th>occupation</th>\n",
       "      <th>relationship</th>\n",
       "      <th>race</th>\n",
       "      <th>sex</th>\n",
       "      <th>capitalgain</th>\n",
       "      <th>capitalloss</th>\n",
       "      <th>hoursperweek</th>\n",
       "      <th>native-country</th>\n",
       "    </tr>\n",
       "  </thead>\n",
       "  <tbody>\n",
       "    <tr>\n",
       "      <th>0</th>\n",
       "      <td>2</td>\n",
       "      <td>State-gov</td>\n",
       "      <td>77516.0</td>\n",
       "      <td>Bachelors</td>\n",
       "      <td>13.0</td>\n",
       "      <td>Never-married</td>\n",
       "      <td>Adm-clerical</td>\n",
       "      <td>Not-in-family</td>\n",
       "      <td>White</td>\n",
       "      <td>Male</td>\n",
       "      <td>1</td>\n",
       "      <td>0</td>\n",
       "      <td>2</td>\n",
       "      <td>United-States</td>\n",
       "    </tr>\n",
       "    <tr>\n",
       "      <th>1</th>\n",
       "      <td>3</td>\n",
       "      <td>Self-emp-not-inc</td>\n",
       "      <td>83311.0</td>\n",
       "      <td>Bachelors</td>\n",
       "      <td>13.0</td>\n",
       "      <td>Married-civ-spouse</td>\n",
       "      <td>Exec-managerial</td>\n",
       "      <td>Husband</td>\n",
       "      <td>White</td>\n",
       "      <td>Male</td>\n",
       "      <td>0</td>\n",
       "      <td>0</td>\n",
       "      <td>0</td>\n",
       "      <td>United-States</td>\n",
       "    </tr>\n",
       "    <tr>\n",
       "      <th>2</th>\n",
       "      <td>2</td>\n",
       "      <td>Private</td>\n",
       "      <td>215646.0</td>\n",
       "      <td>HS-grad</td>\n",
       "      <td>9.0</td>\n",
       "      <td>Divorced</td>\n",
       "      <td>Handlers-cleaners</td>\n",
       "      <td>Not-in-family</td>\n",
       "      <td>White</td>\n",
       "      <td>Male</td>\n",
       "      <td>0</td>\n",
       "      <td>0</td>\n",
       "      <td>2</td>\n",
       "      <td>United-States</td>\n",
       "    </tr>\n",
       "    <tr>\n",
       "      <th>3</th>\n",
       "      <td>3</td>\n",
       "      <td>Private</td>\n",
       "      <td>234721.0</td>\n",
       "      <td>11th</td>\n",
       "      <td>7.0</td>\n",
       "      <td>Married-civ-spouse</td>\n",
       "      <td>Handlers-cleaners</td>\n",
       "      <td>Husband</td>\n",
       "      <td>Black</td>\n",
       "      <td>Male</td>\n",
       "      <td>0</td>\n",
       "      <td>0</td>\n",
       "      <td>2</td>\n",
       "      <td>United-States</td>\n",
       "    </tr>\n",
       "    <tr>\n",
       "      <th>4</th>\n",
       "      <td>1</td>\n",
       "      <td>Private</td>\n",
       "      <td>338409.0</td>\n",
       "      <td>Bachelors</td>\n",
       "      <td>13.0</td>\n",
       "      <td>Married-civ-spouse</td>\n",
       "      <td>Prof-specialty</td>\n",
       "      <td>Wife</td>\n",
       "      <td>Black</td>\n",
       "      <td>Female</td>\n",
       "      <td>0</td>\n",
       "      <td>0</td>\n",
       "      <td>2</td>\n",
       "      <td>Cuba</td>\n",
       "    </tr>\n",
       "  </tbody>\n",
       "</table>\n",
       "</div>"
      ],
      "text/plain": [
       "  age         workclass    fnlwgt  education  education-num  \\\n",
       "0   2         State-gov   77516.0  Bachelors           13.0   \n",
       "1   3  Self-emp-not-inc   83311.0  Bachelors           13.0   \n",
       "2   2           Private  215646.0    HS-grad            9.0   \n",
       "3   3           Private  234721.0       11th            7.0   \n",
       "4   1           Private  338409.0  Bachelors           13.0   \n",
       "\n",
       "       marital-status         occupation   relationship   race     sex  \\\n",
       "0       Never-married       Adm-clerical  Not-in-family  White    Male   \n",
       "1  Married-civ-spouse    Exec-managerial        Husband  White    Male   \n",
       "2            Divorced  Handlers-cleaners  Not-in-family  White    Male   \n",
       "3  Married-civ-spouse  Handlers-cleaners        Husband  Black    Male   \n",
       "4  Married-civ-spouse     Prof-specialty           Wife  Black  Female   \n",
       "\n",
       "  capitalgain capitalloss hoursperweek native-country  \n",
       "0           1           0            2  United-States  \n",
       "1           0           0            0  United-States  \n",
       "2           0           0            2  United-States  \n",
       "3           0           0            2  United-States  \n",
       "4           0           0            2           Cuba  "
      ]
     },
     "execution_count": 12,
     "metadata": {},
     "output_type": "execute_result"
    }
   ],
   "source": [
    "adult.data.head()"
   ]
  },
  {
   "cell_type": "code",
   "execution_count": 13,
   "id": "skilled-future",
   "metadata": {
    "ExecuteTime": {
     "end_time": "2021-02-01T08:30:54.126072Z",
     "start_time": "2021-02-01T08:30:54.122023Z"
    }
   },
   "outputs": [
    {
     "data": {
      "text/plain": [
       "(48842, 14)"
      ]
     },
     "execution_count": 13,
     "metadata": {},
     "output_type": "execute_result"
    }
   ],
   "source": [
    "adult.data.shape"
   ]
  },
  {
   "cell_type": "code",
   "execution_count": 14,
   "id": "durable-auditor",
   "metadata": {
    "ExecuteTime": {
     "end_time": "2021-02-01T08:30:54.672753Z",
     "start_time": "2021-02-01T08:30:54.666792Z"
    }
   },
   "outputs": [
    {
     "data": {
      "text/plain": [
       "0    <=50K\n",
       "1    <=50K\n",
       "2    <=50K\n",
       "3    <=50K\n",
       "4    <=50K\n",
       "Name: class, dtype: category\n",
       "Categories (2, object): ['>50K', '<=50K']"
      ]
     },
     "execution_count": 14,
     "metadata": {},
     "output_type": "execute_result"
    }
   ],
   "source": [
    "adult.target.head()"
   ]
  },
  {
   "cell_type": "code",
   "execution_count": 15,
   "id": "hidden-effectiveness",
   "metadata": {
    "ExecuteTime": {
     "end_time": "2021-02-01T08:30:55.191214Z",
     "start_time": "2021-02-01T08:30:55.188397Z"
    }
   },
   "outputs": [],
   "source": [
    "comparison_datasets['adult'] = {\"task\": TaskNames.classification, \n",
    "                                \"features\": adult.data, \n",
    "                                \"target\": adult.target,\n",
    "                                \"cv\": 4}\n"
   ]
  },
  {
   "cell_type": "markdown",
   "id": "pretty-burke",
   "metadata": {},
   "source": [
    "# UKAir"
   ]
  },
  {
   "cell_type": "code",
   "execution_count": 16,
   "id": "boolean-checkout",
   "metadata": {
    "ExecuteTime": {
     "end_time": "2021-02-01T08:31:06.208825Z",
     "start_time": "2021-02-01T08:30:55.754522Z"
    }
   },
   "outputs": [],
   "source": [
    "ukair = datasets.fetch_openml('particulate-matter-ukair-2017', as_frame=True)"
   ]
  },
  {
   "cell_type": "code",
   "execution_count": 17,
   "id": "referenced-dress",
   "metadata": {
    "ExecuteTime": {
     "end_time": "2021-02-01T08:31:06.794070Z",
     "start_time": "2021-02-01T08:31:06.782366Z"
    }
   },
   "outputs": [
    {
     "data": {
      "text/html": [
       "<div>\n",
       "<style scoped>\n",
       "    .dataframe tbody tr th:only-of-type {\n",
       "        vertical-align: middle;\n",
       "    }\n",
       "\n",
       "    .dataframe tbody tr th {\n",
       "        vertical-align: top;\n",
       "    }\n",
       "\n",
       "    .dataframe thead th {\n",
       "        text-align: right;\n",
       "    }\n",
       "</style>\n",
       "<table border=\"1\" class=\"dataframe\">\n",
       "  <thead>\n",
       "    <tr style=\"text-align: right;\">\n",
       "      <th></th>\n",
       "      <th>datetime</th>\n",
       "      <th>Hour</th>\n",
       "      <th>Month</th>\n",
       "      <th>DayofWeek</th>\n",
       "      <th>Site.Name</th>\n",
       "      <th>Environment.Type</th>\n",
       "      <th>Zone</th>\n",
       "      <th>Altitude..m.</th>\n",
       "      <th>PM.sub.2.5..sub..particulate.matter..Hourly.measured.</th>\n",
       "    </tr>\n",
       "  </thead>\n",
       "  <tbody>\n",
       "    <tr>\n",
       "      <th>0</th>\n",
       "      <td>2017-01-01 01:00:00</td>\n",
       "      <td>1.0</td>\n",
       "      <td>1</td>\n",
       "      <td>1</td>\n",
       "      <td>Aberdeen</td>\n",
       "      <td>Background Urban</td>\n",
       "      <td>North East Scotland</td>\n",
       "      <td>20.0</td>\n",
       "      <td>9.9</td>\n",
       "    </tr>\n",
       "    <tr>\n",
       "      <th>1</th>\n",
       "      <td>2017-01-01 02:00:00</td>\n",
       "      <td>2.0</td>\n",
       "      <td>1</td>\n",
       "      <td>1</td>\n",
       "      <td>Aberdeen</td>\n",
       "      <td>Background Urban</td>\n",
       "      <td>North East Scotland</td>\n",
       "      <td>20.0</td>\n",
       "      <td>4.6</td>\n",
       "    </tr>\n",
       "    <tr>\n",
       "      <th>2</th>\n",
       "      <td>2017-01-01 03:00:00</td>\n",
       "      <td>3.0</td>\n",
       "      <td>1</td>\n",
       "      <td>1</td>\n",
       "      <td>Aberdeen</td>\n",
       "      <td>Background Urban</td>\n",
       "      <td>North East Scotland</td>\n",
       "      <td>20.0</td>\n",
       "      <td>0.8</td>\n",
       "    </tr>\n",
       "    <tr>\n",
       "      <th>3</th>\n",
       "      <td>2017-01-01 04:00:00</td>\n",
       "      <td>4.0</td>\n",
       "      <td>1</td>\n",
       "      <td>1</td>\n",
       "      <td>Aberdeen</td>\n",
       "      <td>Background Urban</td>\n",
       "      <td>North East Scotland</td>\n",
       "      <td>20.0</td>\n",
       "      <td>2.1</td>\n",
       "    </tr>\n",
       "    <tr>\n",
       "      <th>4</th>\n",
       "      <td>2017-01-01 05:00:00</td>\n",
       "      <td>5.0</td>\n",
       "      <td>1</td>\n",
       "      <td>1</td>\n",
       "      <td>Aberdeen</td>\n",
       "      <td>Background Urban</td>\n",
       "      <td>North East Scotland</td>\n",
       "      <td>20.0</td>\n",
       "      <td>5.4</td>\n",
       "    </tr>\n",
       "  </tbody>\n",
       "</table>\n",
       "</div>"
      ],
      "text/plain": [
       "              datetime  Hour Month DayofWeek Site.Name  Environment.Type  \\\n",
       "0  2017-01-01 01:00:00   1.0     1         1  Aberdeen  Background Urban   \n",
       "1  2017-01-01 02:00:00   2.0     1         1  Aberdeen  Background Urban   \n",
       "2  2017-01-01 03:00:00   3.0     1         1  Aberdeen  Background Urban   \n",
       "3  2017-01-01 04:00:00   4.0     1         1  Aberdeen  Background Urban   \n",
       "4  2017-01-01 05:00:00   5.0     1         1  Aberdeen  Background Urban   \n",
       "\n",
       "                  Zone  Altitude..m.  \\\n",
       "0  North East Scotland          20.0   \n",
       "1  North East Scotland          20.0   \n",
       "2  North East Scotland          20.0   \n",
       "3  North East Scotland          20.0   \n",
       "4  North East Scotland          20.0   \n",
       "\n",
       "   PM.sub.2.5..sub..particulate.matter..Hourly.measured.  \n",
       "0                                                9.9      \n",
       "1                                                4.6      \n",
       "2                                                0.8      \n",
       "3                                                2.1      \n",
       "4                                                5.4      "
      ]
     },
     "execution_count": 17,
     "metadata": {},
     "output_type": "execute_result"
    }
   ],
   "source": [
    "ukair.data.head()"
   ]
  },
  {
   "cell_type": "code",
   "execution_count": 18,
   "id": "everyday-factor",
   "metadata": {
    "ExecuteTime": {
     "end_time": "2021-02-01T08:31:07.367228Z",
     "start_time": "2021-02-01T08:31:07.364277Z"
    }
   },
   "outputs": [
    {
     "data": {
      "text/plain": [
       "(394299, 9)"
      ]
     },
     "execution_count": 18,
     "metadata": {},
     "output_type": "execute_result"
    }
   ],
   "source": [
    "ukair.data.shape"
   ]
  },
  {
   "cell_type": "code",
   "execution_count": 19,
   "id": "twelve-immigration",
   "metadata": {
    "ExecuteTime": {
     "end_time": "2021-02-01T08:31:07.937431Z",
     "start_time": "2021-02-01T08:31:07.933746Z"
    }
   },
   "outputs": [
    {
     "data": {
      "text/plain": [
       "0    12.8\n",
       "1    11.0\n",
       "2     4.5\n",
       "3     7.3\n",
       "4     8.2\n",
       "Name: PM.sub.10..sub..particulate.matter..Hourly.measured., dtype: float64"
      ]
     },
     "execution_count": 19,
     "metadata": {},
     "output_type": "execute_result"
    }
   ],
   "source": [
    "ukair.target.head()"
   ]
  },
  {
   "cell_type": "code",
   "execution_count": 20,
   "id": "pregnant-drink",
   "metadata": {
    "ExecuteTime": {
     "end_time": "2021-02-01T08:31:08.532642Z",
     "start_time": "2021-02-01T08:31:08.530411Z"
    }
   },
   "outputs": [],
   "source": [
    "comparison_datasets['ukair'] = {\"task\": TaskNames.regression, \n",
    "                                \"features\": ukair.data, \n",
    "                                \"target\": ukair.target,\n",
    "                                \"cv\": 2}"
   ]
  },
  {
   "cell_type": "markdown",
   "id": "contemporary-renewal",
   "metadata": {},
   "source": [
    "# Diabetes"
   ]
  },
  {
   "cell_type": "code",
   "execution_count": 21,
   "id": "surrounded-station",
   "metadata": {
    "ExecuteTime": {
     "end_time": "2021-02-01T08:31:09.148221Z",
     "start_time": "2021-02-01T08:31:09.127556Z"
    }
   },
   "outputs": [
    {
     "name": "stderr",
     "output_type": "stream",
     "text": [
      "/Users/victorlandeau/Library/Caches/pypoetry/virtualenvs/tabular-models-benchmark-BMhtYu43-py3.8/lib/python3.8/site-packages/sklearn/datasets/_openml.py:373: UserWarning: Multiple active versions of the dataset matching the name diabetes exist. Versions may be fundamentally different, returning version 1.\n",
      "  warn(\"Multiple active versions of the dataset matching the name\"\n"
     ]
    }
   ],
   "source": [
    "diabetes = datasets.fetch_openml('diabetes', as_frame=True)"
   ]
  },
  {
   "cell_type": "code",
   "execution_count": 22,
   "id": "breathing-recorder",
   "metadata": {
    "ExecuteTime": {
     "end_time": "2021-02-01T08:31:09.834321Z",
     "start_time": "2021-02-01T08:31:09.823817Z"
    }
   },
   "outputs": [
    {
     "data": {
      "text/html": [
       "<div>\n",
       "<style scoped>\n",
       "    .dataframe tbody tr th:only-of-type {\n",
       "        vertical-align: middle;\n",
       "    }\n",
       "\n",
       "    .dataframe tbody tr th {\n",
       "        vertical-align: top;\n",
       "    }\n",
       "\n",
       "    .dataframe thead th {\n",
       "        text-align: right;\n",
       "    }\n",
       "</style>\n",
       "<table border=\"1\" class=\"dataframe\">\n",
       "  <thead>\n",
       "    <tr style=\"text-align: right;\">\n",
       "      <th></th>\n",
       "      <th>preg</th>\n",
       "      <th>plas</th>\n",
       "      <th>pres</th>\n",
       "      <th>skin</th>\n",
       "      <th>insu</th>\n",
       "      <th>mass</th>\n",
       "      <th>pedi</th>\n",
       "      <th>age</th>\n",
       "    </tr>\n",
       "  </thead>\n",
       "  <tbody>\n",
       "    <tr>\n",
       "      <th>0</th>\n",
       "      <td>6.0</td>\n",
       "      <td>148.0</td>\n",
       "      <td>72.0</td>\n",
       "      <td>35.0</td>\n",
       "      <td>0.0</td>\n",
       "      <td>33.6</td>\n",
       "      <td>0.627</td>\n",
       "      <td>50.0</td>\n",
       "    </tr>\n",
       "    <tr>\n",
       "      <th>1</th>\n",
       "      <td>1.0</td>\n",
       "      <td>85.0</td>\n",
       "      <td>66.0</td>\n",
       "      <td>29.0</td>\n",
       "      <td>0.0</td>\n",
       "      <td>26.6</td>\n",
       "      <td>0.351</td>\n",
       "      <td>31.0</td>\n",
       "    </tr>\n",
       "    <tr>\n",
       "      <th>2</th>\n",
       "      <td>8.0</td>\n",
       "      <td>183.0</td>\n",
       "      <td>64.0</td>\n",
       "      <td>0.0</td>\n",
       "      <td>0.0</td>\n",
       "      <td>23.3</td>\n",
       "      <td>0.672</td>\n",
       "      <td>32.0</td>\n",
       "    </tr>\n",
       "    <tr>\n",
       "      <th>3</th>\n",
       "      <td>1.0</td>\n",
       "      <td>89.0</td>\n",
       "      <td>66.0</td>\n",
       "      <td>23.0</td>\n",
       "      <td>94.0</td>\n",
       "      <td>28.1</td>\n",
       "      <td>0.167</td>\n",
       "      <td>21.0</td>\n",
       "    </tr>\n",
       "    <tr>\n",
       "      <th>4</th>\n",
       "      <td>0.0</td>\n",
       "      <td>137.0</td>\n",
       "      <td>40.0</td>\n",
       "      <td>35.0</td>\n",
       "      <td>168.0</td>\n",
       "      <td>43.1</td>\n",
       "      <td>2.288</td>\n",
       "      <td>33.0</td>\n",
       "    </tr>\n",
       "  </tbody>\n",
       "</table>\n",
       "</div>"
      ],
      "text/plain": [
       "   preg   plas  pres  skin   insu  mass   pedi   age\n",
       "0   6.0  148.0  72.0  35.0    0.0  33.6  0.627  50.0\n",
       "1   1.0   85.0  66.0  29.0    0.0  26.6  0.351  31.0\n",
       "2   8.0  183.0  64.0   0.0    0.0  23.3  0.672  32.0\n",
       "3   1.0   89.0  66.0  23.0   94.0  28.1  0.167  21.0\n",
       "4   0.0  137.0  40.0  35.0  168.0  43.1  2.288  33.0"
      ]
     },
     "execution_count": 22,
     "metadata": {},
     "output_type": "execute_result"
    }
   ],
   "source": [
    "diabetes.data.head()"
   ]
  },
  {
   "cell_type": "code",
   "execution_count": 23,
   "id": "hired-nowhere",
   "metadata": {
    "ExecuteTime": {
     "end_time": "2021-02-01T08:31:10.484289Z",
     "start_time": "2021-02-01T08:31:10.481519Z"
    }
   },
   "outputs": [
    {
     "data": {
      "text/plain": [
       "(768, 8)"
      ]
     },
     "execution_count": 23,
     "metadata": {},
     "output_type": "execute_result"
    }
   ],
   "source": [
    "diabetes.data.shape"
   ]
  },
  {
   "cell_type": "code",
   "execution_count": 24,
   "id": "obvious-profit",
   "metadata": {
    "ExecuteTime": {
     "end_time": "2021-02-01T08:31:11.207154Z",
     "start_time": "2021-02-01T08:31:11.203395Z"
    }
   },
   "outputs": [
    {
     "data": {
      "text/plain": [
       "0    tested_positive\n",
       "1    tested_negative\n",
       "2    tested_positive\n",
       "3    tested_negative\n",
       "4    tested_positive\n",
       "Name: class, dtype: category\n",
       "Categories (2, object): ['tested_negative', 'tested_positive']"
      ]
     },
     "execution_count": 24,
     "metadata": {},
     "output_type": "execute_result"
    }
   ],
   "source": [
    "diabetes.target.head()"
   ]
  },
  {
   "cell_type": "code",
   "execution_count": 25,
   "id": "aging-telephone",
   "metadata": {
    "ExecuteTime": {
     "end_time": "2021-02-01T08:31:11.896990Z",
     "start_time": "2021-02-01T08:31:11.894835Z"
    }
   },
   "outputs": [],
   "source": [
    "comparison_datasets['diabetes'] = {\"task\": TaskNames.classification, \n",
    "                                   \"features\": diabetes.data, \n",
    "                                   \"target\": diabetes.target,\n",
    "                                   \"cv\": 10}"
   ]
  },
  {
   "cell_type": "markdown",
   "id": "serious-march",
   "metadata": {},
   "source": [
    "# Bank marketing"
   ]
  },
  {
   "cell_type": "code",
   "execution_count": 26,
   "id": "generous-israel",
   "metadata": {
    "ExecuteTime": {
     "end_time": "2021-02-01T08:31:13.454492Z",
     "start_time": "2021-02-01T08:31:12.602362Z"
    }
   },
   "outputs": [
    {
     "name": "stderr",
     "output_type": "stream",
     "text": [
      "/Users/victorlandeau/Library/Caches/pypoetry/virtualenvs/tabular-models-benchmark-BMhtYu43-py3.8/lib/python3.8/site-packages/sklearn/datasets/_openml.py:373: UserWarning: Multiple active versions of the dataset matching the name bank-marketing exist. Versions may be fundamentally different, returning version 1.\n",
      "  warn(\"Multiple active versions of the dataset matching the name\"\n"
     ]
    }
   ],
   "source": [
    "bank_marketing = datasets.fetch_openml(\"bank-marketing\", as_frame=True)"
   ]
  },
  {
   "cell_type": "code",
   "execution_count": 27,
   "id": "accurate-slide",
   "metadata": {
    "ExecuteTime": {
     "end_time": "2021-02-01T08:31:14.193580Z",
     "start_time": "2021-02-01T08:31:14.178022Z"
    }
   },
   "outputs": [
    {
     "data": {
      "text/html": [
       "<div>\n",
       "<style scoped>\n",
       "    .dataframe tbody tr th:only-of-type {\n",
       "        vertical-align: middle;\n",
       "    }\n",
       "\n",
       "    .dataframe tbody tr th {\n",
       "        vertical-align: top;\n",
       "    }\n",
       "\n",
       "    .dataframe thead th {\n",
       "        text-align: right;\n",
       "    }\n",
       "</style>\n",
       "<table border=\"1\" class=\"dataframe\">\n",
       "  <thead>\n",
       "    <tr style=\"text-align: right;\">\n",
       "      <th></th>\n",
       "      <th>V1</th>\n",
       "      <th>V2</th>\n",
       "      <th>V3</th>\n",
       "      <th>V4</th>\n",
       "      <th>V5</th>\n",
       "      <th>V6</th>\n",
       "      <th>V7</th>\n",
       "      <th>V8</th>\n",
       "      <th>V9</th>\n",
       "      <th>V10</th>\n",
       "      <th>V11</th>\n",
       "      <th>V12</th>\n",
       "      <th>V13</th>\n",
       "      <th>V14</th>\n",
       "      <th>V15</th>\n",
       "      <th>V16</th>\n",
       "    </tr>\n",
       "  </thead>\n",
       "  <tbody>\n",
       "    <tr>\n",
       "      <th>0</th>\n",
       "      <td>58.0</td>\n",
       "      <td>management</td>\n",
       "      <td>married</td>\n",
       "      <td>tertiary</td>\n",
       "      <td>no</td>\n",
       "      <td>2143.0</td>\n",
       "      <td>yes</td>\n",
       "      <td>no</td>\n",
       "      <td>unknown</td>\n",
       "      <td>5.0</td>\n",
       "      <td>may</td>\n",
       "      <td>261.0</td>\n",
       "      <td>1.0</td>\n",
       "      <td>-1.0</td>\n",
       "      <td>0.0</td>\n",
       "      <td>unknown</td>\n",
       "    </tr>\n",
       "    <tr>\n",
       "      <th>1</th>\n",
       "      <td>44.0</td>\n",
       "      <td>technician</td>\n",
       "      <td>single</td>\n",
       "      <td>secondary</td>\n",
       "      <td>no</td>\n",
       "      <td>29.0</td>\n",
       "      <td>yes</td>\n",
       "      <td>no</td>\n",
       "      <td>unknown</td>\n",
       "      <td>5.0</td>\n",
       "      <td>may</td>\n",
       "      <td>151.0</td>\n",
       "      <td>1.0</td>\n",
       "      <td>-1.0</td>\n",
       "      <td>0.0</td>\n",
       "      <td>unknown</td>\n",
       "    </tr>\n",
       "    <tr>\n",
       "      <th>2</th>\n",
       "      <td>33.0</td>\n",
       "      <td>entrepreneur</td>\n",
       "      <td>married</td>\n",
       "      <td>secondary</td>\n",
       "      <td>no</td>\n",
       "      <td>2.0</td>\n",
       "      <td>yes</td>\n",
       "      <td>yes</td>\n",
       "      <td>unknown</td>\n",
       "      <td>5.0</td>\n",
       "      <td>may</td>\n",
       "      <td>76.0</td>\n",
       "      <td>1.0</td>\n",
       "      <td>-1.0</td>\n",
       "      <td>0.0</td>\n",
       "      <td>unknown</td>\n",
       "    </tr>\n",
       "    <tr>\n",
       "      <th>3</th>\n",
       "      <td>47.0</td>\n",
       "      <td>blue-collar</td>\n",
       "      <td>married</td>\n",
       "      <td>unknown</td>\n",
       "      <td>no</td>\n",
       "      <td>1506.0</td>\n",
       "      <td>yes</td>\n",
       "      <td>no</td>\n",
       "      <td>unknown</td>\n",
       "      <td>5.0</td>\n",
       "      <td>may</td>\n",
       "      <td>92.0</td>\n",
       "      <td>1.0</td>\n",
       "      <td>-1.0</td>\n",
       "      <td>0.0</td>\n",
       "      <td>unknown</td>\n",
       "    </tr>\n",
       "    <tr>\n",
       "      <th>4</th>\n",
       "      <td>33.0</td>\n",
       "      <td>unknown</td>\n",
       "      <td>single</td>\n",
       "      <td>unknown</td>\n",
       "      <td>no</td>\n",
       "      <td>1.0</td>\n",
       "      <td>no</td>\n",
       "      <td>no</td>\n",
       "      <td>unknown</td>\n",
       "      <td>5.0</td>\n",
       "      <td>may</td>\n",
       "      <td>198.0</td>\n",
       "      <td>1.0</td>\n",
       "      <td>-1.0</td>\n",
       "      <td>0.0</td>\n",
       "      <td>unknown</td>\n",
       "    </tr>\n",
       "  </tbody>\n",
       "</table>\n",
       "</div>"
      ],
      "text/plain": [
       "     V1            V2       V3         V4  V5      V6   V7   V8       V9  V10  \\\n",
       "0  58.0    management  married   tertiary  no  2143.0  yes   no  unknown  5.0   \n",
       "1  44.0    technician   single  secondary  no    29.0  yes   no  unknown  5.0   \n",
       "2  33.0  entrepreneur  married  secondary  no     2.0  yes  yes  unknown  5.0   \n",
       "3  47.0   blue-collar  married    unknown  no  1506.0  yes   no  unknown  5.0   \n",
       "4  33.0       unknown   single    unknown  no     1.0   no   no  unknown  5.0   \n",
       "\n",
       "   V11    V12  V13  V14  V15      V16  \n",
       "0  may  261.0  1.0 -1.0  0.0  unknown  \n",
       "1  may  151.0  1.0 -1.0  0.0  unknown  \n",
       "2  may   76.0  1.0 -1.0  0.0  unknown  \n",
       "3  may   92.0  1.0 -1.0  0.0  unknown  \n",
       "4  may  198.0  1.0 -1.0  0.0  unknown  "
      ]
     },
     "execution_count": 27,
     "metadata": {},
     "output_type": "execute_result"
    }
   ],
   "source": [
    "bank_marketing.data.head()"
   ]
  },
  {
   "cell_type": "code",
   "execution_count": 28,
   "id": "treated-rogers",
   "metadata": {
    "ExecuteTime": {
     "end_time": "2021-02-01T08:31:14.941447Z",
     "start_time": "2021-02-01T08:31:14.938669Z"
    }
   },
   "outputs": [
    {
     "data": {
      "text/plain": [
       "(45211, 16)"
      ]
     },
     "execution_count": 28,
     "metadata": {},
     "output_type": "execute_result"
    }
   ],
   "source": [
    "bank_marketing.data.shape"
   ]
  },
  {
   "cell_type": "code",
   "execution_count": 29,
   "id": "eligible-auckland",
   "metadata": {
    "ExecuteTime": {
     "end_time": "2021-02-01T08:31:15.660477Z",
     "start_time": "2021-02-01T08:31:15.655747Z"
    }
   },
   "outputs": [
    {
     "data": {
      "text/plain": [
       "0    1\n",
       "1    1\n",
       "2    1\n",
       "3    1\n",
       "4    1\n",
       "Name: Class, dtype: category\n",
       "Categories (2, object): ['1', '2']"
      ]
     },
     "execution_count": 29,
     "metadata": {},
     "output_type": "execute_result"
    }
   ],
   "source": [
    "bank_marketing.target.head()"
   ]
  },
  {
   "cell_type": "code",
   "execution_count": 30,
   "id": "brown-measure",
   "metadata": {
    "ExecuteTime": {
     "end_time": "2021-02-01T08:31:16.413875Z",
     "start_time": "2021-02-01T08:31:16.411131Z"
    }
   },
   "outputs": [],
   "source": [
    "comparison_datasets['bank'] = {\"task\": TaskNames.classification, \n",
    "                               \"features\": bank_marketing.data, \n",
    "                               \"target\": bank_marketing.target,\n",
    "                               \"cv\": 4}"
   ]
  },
  {
   "cell_type": "markdown",
   "id": "pediatric-tracker",
   "metadata": {},
   "source": [
    "# Speed dating"
   ]
  },
  {
   "cell_type": "code",
   "execution_count": 31,
   "id": "immune-fitting",
   "metadata": {
    "ExecuteTime": {
     "end_time": "2021-02-01T08:31:18.380066Z",
     "start_time": "2021-02-01T08:31:17.168901Z"
    }
   },
   "outputs": [],
   "source": [
    "speed_dating = datasets.fetch_openml(\"SpeedDating\", as_frame=True)"
   ]
  },
  {
   "cell_type": "code",
   "execution_count": 32,
   "id": "passive-handbook",
   "metadata": {
    "ExecuteTime": {
     "end_time": "2021-02-01T08:31:19.257492Z",
     "start_time": "2021-02-01T08:31:19.231369Z"
    }
   },
   "outputs": [
    {
     "data": {
      "text/html": [
       "<div>\n",
       "<style scoped>\n",
       "    .dataframe tbody tr th:only-of-type {\n",
       "        vertical-align: middle;\n",
       "    }\n",
       "\n",
       "    .dataframe tbody tr th {\n",
       "        vertical-align: top;\n",
       "    }\n",
       "\n",
       "    .dataframe thead th {\n",
       "        text-align: right;\n",
       "    }\n",
       "</style>\n",
       "<table border=\"1\" class=\"dataframe\">\n",
       "  <thead>\n",
       "    <tr style=\"text-align: right;\">\n",
       "      <th></th>\n",
       "      <th>has_null</th>\n",
       "      <th>wave</th>\n",
       "      <th>gender</th>\n",
       "      <th>age</th>\n",
       "      <th>age_o</th>\n",
       "      <th>d_age</th>\n",
       "      <th>d_d_age</th>\n",
       "      <th>race</th>\n",
       "      <th>race_o</th>\n",
       "      <th>samerace</th>\n",
       "      <th>...</th>\n",
       "      <th>expected_num_interested_in_me</th>\n",
       "      <th>expected_num_matches</th>\n",
       "      <th>d_expected_happy_with_sd_people</th>\n",
       "      <th>d_expected_num_interested_in_me</th>\n",
       "      <th>d_expected_num_matches</th>\n",
       "      <th>like</th>\n",
       "      <th>guess_prob_liked</th>\n",
       "      <th>d_like</th>\n",
       "      <th>d_guess_prob_liked</th>\n",
       "      <th>met</th>\n",
       "    </tr>\n",
       "  </thead>\n",
       "  <tbody>\n",
       "    <tr>\n",
       "      <th>0</th>\n",
       "      <td>0</td>\n",
       "      <td>1.0</td>\n",
       "      <td>female</td>\n",
       "      <td>21.0</td>\n",
       "      <td>27.0</td>\n",
       "      <td>6.0</td>\n",
       "      <td>[4-6]</td>\n",
       "      <td>Asian/Pacific Islander/Asian-American</td>\n",
       "      <td>European/Caucasian-American</td>\n",
       "      <td>0</td>\n",
       "      <td>...</td>\n",
       "      <td>2.0</td>\n",
       "      <td>4.0</td>\n",
       "      <td>[0-4]</td>\n",
       "      <td>[0-3]</td>\n",
       "      <td>[3-5]</td>\n",
       "      <td>7.0</td>\n",
       "      <td>6.0</td>\n",
       "      <td>[6-8]</td>\n",
       "      <td>[5-6]</td>\n",
       "      <td>0.0</td>\n",
       "    </tr>\n",
       "    <tr>\n",
       "      <th>1</th>\n",
       "      <td>0</td>\n",
       "      <td>1.0</td>\n",
       "      <td>female</td>\n",
       "      <td>21.0</td>\n",
       "      <td>22.0</td>\n",
       "      <td>1.0</td>\n",
       "      <td>[0-1]</td>\n",
       "      <td>Asian/Pacific Islander/Asian-American</td>\n",
       "      <td>European/Caucasian-American</td>\n",
       "      <td>0</td>\n",
       "      <td>...</td>\n",
       "      <td>2.0</td>\n",
       "      <td>4.0</td>\n",
       "      <td>[0-4]</td>\n",
       "      <td>[0-3]</td>\n",
       "      <td>[3-5]</td>\n",
       "      <td>7.0</td>\n",
       "      <td>5.0</td>\n",
       "      <td>[6-8]</td>\n",
       "      <td>[5-6]</td>\n",
       "      <td>1.0</td>\n",
       "    </tr>\n",
       "    <tr>\n",
       "      <th>2</th>\n",
       "      <td>1</td>\n",
       "      <td>1.0</td>\n",
       "      <td>female</td>\n",
       "      <td>21.0</td>\n",
       "      <td>22.0</td>\n",
       "      <td>1.0</td>\n",
       "      <td>[0-1]</td>\n",
       "      <td>Asian/Pacific Islander/Asian-American</td>\n",
       "      <td>Asian/Pacific Islander/Asian-American</td>\n",
       "      <td>1</td>\n",
       "      <td>...</td>\n",
       "      <td>2.0</td>\n",
       "      <td>4.0</td>\n",
       "      <td>[0-4]</td>\n",
       "      <td>[0-3]</td>\n",
       "      <td>[3-5]</td>\n",
       "      <td>7.0</td>\n",
       "      <td>NaN</td>\n",
       "      <td>[6-8]</td>\n",
       "      <td>[0-4]</td>\n",
       "      <td>1.0</td>\n",
       "    </tr>\n",
       "    <tr>\n",
       "      <th>3</th>\n",
       "      <td>0</td>\n",
       "      <td>1.0</td>\n",
       "      <td>female</td>\n",
       "      <td>21.0</td>\n",
       "      <td>23.0</td>\n",
       "      <td>2.0</td>\n",
       "      <td>[2-3]</td>\n",
       "      <td>Asian/Pacific Islander/Asian-American</td>\n",
       "      <td>European/Caucasian-American</td>\n",
       "      <td>0</td>\n",
       "      <td>...</td>\n",
       "      <td>2.0</td>\n",
       "      <td>4.0</td>\n",
       "      <td>[0-4]</td>\n",
       "      <td>[0-3]</td>\n",
       "      <td>[3-5]</td>\n",
       "      <td>7.0</td>\n",
       "      <td>6.0</td>\n",
       "      <td>[6-8]</td>\n",
       "      <td>[5-6]</td>\n",
       "      <td>0.0</td>\n",
       "    </tr>\n",
       "    <tr>\n",
       "      <th>4</th>\n",
       "      <td>0</td>\n",
       "      <td>1.0</td>\n",
       "      <td>female</td>\n",
       "      <td>21.0</td>\n",
       "      <td>24.0</td>\n",
       "      <td>3.0</td>\n",
       "      <td>[2-3]</td>\n",
       "      <td>Asian/Pacific Islander/Asian-American</td>\n",
       "      <td>Latino/Hispanic American</td>\n",
       "      <td>0</td>\n",
       "      <td>...</td>\n",
       "      <td>2.0</td>\n",
       "      <td>4.0</td>\n",
       "      <td>[0-4]</td>\n",
       "      <td>[0-3]</td>\n",
       "      <td>[3-5]</td>\n",
       "      <td>6.0</td>\n",
       "      <td>6.0</td>\n",
       "      <td>[6-8]</td>\n",
       "      <td>[5-6]</td>\n",
       "      <td>0.0</td>\n",
       "    </tr>\n",
       "  </tbody>\n",
       "</table>\n",
       "<p>5 rows × 120 columns</p>\n",
       "</div>"
      ],
      "text/plain": [
       "  has_null  wave  gender   age  age_o  d_age d_d_age  \\\n",
       "0        0   1.0  female  21.0   27.0    6.0   [4-6]   \n",
       "1        0   1.0  female  21.0   22.0    1.0   [0-1]   \n",
       "2        1   1.0  female  21.0   22.0    1.0   [0-1]   \n",
       "3        0   1.0  female  21.0   23.0    2.0   [2-3]   \n",
       "4        0   1.0  female  21.0   24.0    3.0   [2-3]   \n",
       "\n",
       "                                    race  \\\n",
       "0  Asian/Pacific Islander/Asian-American   \n",
       "1  Asian/Pacific Islander/Asian-American   \n",
       "2  Asian/Pacific Islander/Asian-American   \n",
       "3  Asian/Pacific Islander/Asian-American   \n",
       "4  Asian/Pacific Islander/Asian-American   \n",
       "\n",
       "                                  race_o samerace  ...  \\\n",
       "0            European/Caucasian-American        0  ...   \n",
       "1            European/Caucasian-American        0  ...   \n",
       "2  Asian/Pacific Islander/Asian-American        1  ...   \n",
       "3            European/Caucasian-American        0  ...   \n",
       "4               Latino/Hispanic American        0  ...   \n",
       "\n",
       "   expected_num_interested_in_me  expected_num_matches  \\\n",
       "0                            2.0                   4.0   \n",
       "1                            2.0                   4.0   \n",
       "2                            2.0                   4.0   \n",
       "3                            2.0                   4.0   \n",
       "4                            2.0                   4.0   \n",
       "\n",
       "  d_expected_happy_with_sd_people d_expected_num_interested_in_me  \\\n",
       "0                           [0-4]                           [0-3]   \n",
       "1                           [0-4]                           [0-3]   \n",
       "2                           [0-4]                           [0-3]   \n",
       "3                           [0-4]                           [0-3]   \n",
       "4                           [0-4]                           [0-3]   \n",
       "\n",
       "  d_expected_num_matches  like  guess_prob_liked  d_like  d_guess_prob_liked  \\\n",
       "0                  [3-5]   7.0               6.0   [6-8]               [5-6]   \n",
       "1                  [3-5]   7.0               5.0   [6-8]               [5-6]   \n",
       "2                  [3-5]   7.0               NaN   [6-8]               [0-4]   \n",
       "3                  [3-5]   7.0               6.0   [6-8]               [5-6]   \n",
       "4                  [3-5]   6.0               6.0   [6-8]               [5-6]   \n",
       "\n",
       "   met  \n",
       "0  0.0  \n",
       "1  1.0  \n",
       "2  1.0  \n",
       "3  0.0  \n",
       "4  0.0  \n",
       "\n",
       "[5 rows x 120 columns]"
      ]
     },
     "execution_count": 32,
     "metadata": {},
     "output_type": "execute_result"
    }
   ],
   "source": [
    "speed_dating.data.head()"
   ]
  },
  {
   "cell_type": "code",
   "execution_count": 33,
   "id": "efficient-sharing",
   "metadata": {
    "ExecuteTime": {
     "end_time": "2021-02-01T08:31:20.057981Z",
     "start_time": "2021-02-01T08:31:20.055300Z"
    }
   },
   "outputs": [
    {
     "data": {
      "text/plain": [
       "(8378, 120)"
      ]
     },
     "execution_count": 33,
     "metadata": {},
     "output_type": "execute_result"
    }
   ],
   "source": [
    "speed_dating.data.shape"
   ]
  },
  {
   "cell_type": "code",
   "execution_count": 34,
   "id": "bibliographic-nowhere",
   "metadata": {
    "ExecuteTime": {
     "end_time": "2021-02-01T08:31:20.925859Z",
     "start_time": "2021-02-01T08:31:20.920266Z"
    }
   },
   "outputs": [
    {
     "data": {
      "text/plain": [
       "0    0\n",
       "1    0\n",
       "2    1\n",
       "3    1\n",
       "4    1\n",
       "Name: match, dtype: category\n",
       "Categories (2, object): ['0', '1']"
      ]
     },
     "execution_count": 34,
     "metadata": {},
     "output_type": "execute_result"
    }
   ],
   "source": [
    "speed_dating.target.head()"
   ]
  },
  {
   "cell_type": "code",
   "execution_count": 35,
   "id": "surface-colonial",
   "metadata": {
    "ExecuteTime": {
     "end_time": "2021-02-01T08:31:21.803920Z",
     "start_time": "2021-02-01T08:31:21.801572Z"
    }
   },
   "outputs": [],
   "source": [
    "comparison_datasets['dating'] = {\"task\": TaskNames.classification, \n",
    "                                 \"features\": speed_dating.data, \n",
    "                                 \"target\": speed_dating.target,\n",
    "                                 \"cv\": 6}"
   ]
  },
  {
   "cell_type": "markdown",
   "id": "metallic-matrix",
   "metadata": {},
   "source": [
    "# Hill valley"
   ]
  },
  {
   "cell_type": "code",
   "execution_count": 36,
   "id": "above-laser",
   "metadata": {
    "ExecuteTime": {
     "end_time": "2021-02-01T08:31:22.767273Z",
     "start_time": "2021-02-01T08:31:22.670525Z"
    }
   },
   "outputs": [
    {
     "name": "stderr",
     "output_type": "stream",
     "text": [
      "/Users/victorlandeau/Library/Caches/pypoetry/virtualenvs/tabular-models-benchmark-BMhtYu43-py3.8/lib/python3.8/site-packages/sklearn/datasets/_openml.py:373: UserWarning: Multiple active versions of the dataset matching the name hill-valley exist. Versions may be fundamentally different, returning version 1.\n",
      "  warn(\"Multiple active versions of the dataset matching the name\"\n"
     ]
    }
   ],
   "source": [
    "hill_valley = datasets.fetch_openml(\"hill-valley\", as_frame=True)"
   ]
  },
  {
   "cell_type": "code",
   "execution_count": 37,
   "id": "unknown-termination",
   "metadata": {
    "ExecuteTime": {
     "end_time": "2021-02-01T08:31:23.627718Z",
     "start_time": "2021-02-01T08:31:23.608346Z"
    }
   },
   "outputs": [
    {
     "data": {
      "text/html": [
       "<div>\n",
       "<style scoped>\n",
       "    .dataframe tbody tr th:only-of-type {\n",
       "        vertical-align: middle;\n",
       "    }\n",
       "\n",
       "    .dataframe tbody tr th {\n",
       "        vertical-align: top;\n",
       "    }\n",
       "\n",
       "    .dataframe thead th {\n",
       "        text-align: right;\n",
       "    }\n",
       "</style>\n",
       "<table border=\"1\" class=\"dataframe\">\n",
       "  <thead>\n",
       "    <tr style=\"text-align: right;\">\n",
       "      <th></th>\n",
       "      <th>V1</th>\n",
       "      <th>V2</th>\n",
       "      <th>V3</th>\n",
       "      <th>V4</th>\n",
       "      <th>V5</th>\n",
       "      <th>V6</th>\n",
       "      <th>V7</th>\n",
       "      <th>V8</th>\n",
       "      <th>V9</th>\n",
       "      <th>V10</th>\n",
       "      <th>...</th>\n",
       "      <th>V91</th>\n",
       "      <th>V92</th>\n",
       "      <th>V93</th>\n",
       "      <th>V94</th>\n",
       "      <th>V95</th>\n",
       "      <th>V96</th>\n",
       "      <th>V97</th>\n",
       "      <th>V98</th>\n",
       "      <th>V99</th>\n",
       "      <th>V100</th>\n",
       "    </tr>\n",
       "  </thead>\n",
       "  <tbody>\n",
       "    <tr>\n",
       "      <th>0</th>\n",
       "      <td>39.02</td>\n",
       "      <td>36.49</td>\n",
       "      <td>38.20</td>\n",
       "      <td>38.85</td>\n",
       "      <td>39.38</td>\n",
       "      <td>39.74</td>\n",
       "      <td>37.02</td>\n",
       "      <td>39.53</td>\n",
       "      <td>38.81</td>\n",
       "      <td>38.79</td>\n",
       "      <td>...</td>\n",
       "      <td>37.57</td>\n",
       "      <td>36.62</td>\n",
       "      <td>36.92</td>\n",
       "      <td>38.80</td>\n",
       "      <td>38.52</td>\n",
       "      <td>38.07</td>\n",
       "      <td>36.73</td>\n",
       "      <td>39.46</td>\n",
       "      <td>37.50</td>\n",
       "      <td>39.10</td>\n",
       "    </tr>\n",
       "    <tr>\n",
       "      <th>1</th>\n",
       "      <td>1.83</td>\n",
       "      <td>1.71</td>\n",
       "      <td>1.77</td>\n",
       "      <td>1.77</td>\n",
       "      <td>1.68</td>\n",
       "      <td>1.78</td>\n",
       "      <td>1.80</td>\n",
       "      <td>1.70</td>\n",
       "      <td>1.75</td>\n",
       "      <td>1.78</td>\n",
       "      <td>...</td>\n",
       "      <td>1.71</td>\n",
       "      <td>1.80</td>\n",
       "      <td>1.79</td>\n",
       "      <td>1.77</td>\n",
       "      <td>1.74</td>\n",
       "      <td>1.74</td>\n",
       "      <td>1.80</td>\n",
       "      <td>1.78</td>\n",
       "      <td>1.75</td>\n",
       "      <td>1.69</td>\n",
       "    </tr>\n",
       "    <tr>\n",
       "      <th>2</th>\n",
       "      <td>68177.69</td>\n",
       "      <td>66138.42</td>\n",
       "      <td>72981.88</td>\n",
       "      <td>74304.33</td>\n",
       "      <td>67549.66</td>\n",
       "      <td>69367.34</td>\n",
       "      <td>69169.41</td>\n",
       "      <td>73268.61</td>\n",
       "      <td>74465.84</td>\n",
       "      <td>72503.37</td>\n",
       "      <td>...</td>\n",
       "      <td>69384.71</td>\n",
       "      <td>73438.88</td>\n",
       "      <td>71053.35</td>\n",
       "      <td>71112.62</td>\n",
       "      <td>74916.48</td>\n",
       "      <td>72571.58</td>\n",
       "      <td>66348.97</td>\n",
       "      <td>71063.72</td>\n",
       "      <td>67404.27</td>\n",
       "      <td>74920.24</td>\n",
       "    </tr>\n",
       "    <tr>\n",
       "      <th>3</th>\n",
       "      <td>44889.06</td>\n",
       "      <td>39191.86</td>\n",
       "      <td>40728.46</td>\n",
       "      <td>38576.36</td>\n",
       "      <td>45876.06</td>\n",
       "      <td>47034.00</td>\n",
       "      <td>46611.43</td>\n",
       "      <td>37668.32</td>\n",
       "      <td>40980.89</td>\n",
       "      <td>38466.15</td>\n",
       "      <td>...</td>\n",
       "      <td>47653.60</td>\n",
       "      <td>42625.67</td>\n",
       "      <td>40684.20</td>\n",
       "      <td>46960.73</td>\n",
       "      <td>44546.80</td>\n",
       "      <td>45410.53</td>\n",
       "      <td>47139.44</td>\n",
       "      <td>43095.68</td>\n",
       "      <td>40888.34</td>\n",
       "      <td>39615.19</td>\n",
       "    </tr>\n",
       "    <tr>\n",
       "      <th>4</th>\n",
       "      <td>5.70</td>\n",
       "      <td>5.40</td>\n",
       "      <td>5.28</td>\n",
       "      <td>5.38</td>\n",
       "      <td>5.27</td>\n",
       "      <td>5.61</td>\n",
       "      <td>6.00</td>\n",
       "      <td>5.38</td>\n",
       "      <td>5.34</td>\n",
       "      <td>5.87</td>\n",
       "      <td>...</td>\n",
       "      <td>5.52</td>\n",
       "      <td>5.17</td>\n",
       "      <td>5.67</td>\n",
       "      <td>5.60</td>\n",
       "      <td>5.94</td>\n",
       "      <td>5.73</td>\n",
       "      <td>5.22</td>\n",
       "      <td>5.30</td>\n",
       "      <td>5.73</td>\n",
       "      <td>5.91</td>\n",
       "    </tr>\n",
       "  </tbody>\n",
       "</table>\n",
       "<p>5 rows × 100 columns</p>\n",
       "</div>"
      ],
      "text/plain": [
       "         V1        V2        V3        V4        V5        V6        V7  \\\n",
       "0     39.02     36.49     38.20     38.85     39.38     39.74     37.02   \n",
       "1      1.83      1.71      1.77      1.77      1.68      1.78      1.80   \n",
       "2  68177.69  66138.42  72981.88  74304.33  67549.66  69367.34  69169.41   \n",
       "3  44889.06  39191.86  40728.46  38576.36  45876.06  47034.00  46611.43   \n",
       "4      5.70      5.40      5.28      5.38      5.27      5.61      6.00   \n",
       "\n",
       "         V8        V9       V10  ...       V91       V92       V93       V94  \\\n",
       "0     39.53     38.81     38.79  ...     37.57     36.62     36.92     38.80   \n",
       "1      1.70      1.75      1.78  ...      1.71      1.80      1.79      1.77   \n",
       "2  73268.61  74465.84  72503.37  ...  69384.71  73438.88  71053.35  71112.62   \n",
       "3  37668.32  40980.89  38466.15  ...  47653.60  42625.67  40684.20  46960.73   \n",
       "4      5.38      5.34      5.87  ...      5.52      5.17      5.67      5.60   \n",
       "\n",
       "        V95       V96       V97       V98       V99      V100  \n",
       "0     38.52     38.07     36.73     39.46     37.50     39.10  \n",
       "1      1.74      1.74      1.80      1.78      1.75      1.69  \n",
       "2  74916.48  72571.58  66348.97  71063.72  67404.27  74920.24  \n",
       "3  44546.80  45410.53  47139.44  43095.68  40888.34  39615.19  \n",
       "4      5.94      5.73      5.22      5.30      5.73      5.91  \n",
       "\n",
       "[5 rows x 100 columns]"
      ]
     },
     "execution_count": 37,
     "metadata": {},
     "output_type": "execute_result"
    }
   ],
   "source": [
    "hill_valley.data.head()"
   ]
  },
  {
   "cell_type": "code",
   "execution_count": 38,
   "id": "possible-apache",
   "metadata": {
    "ExecuteTime": {
     "end_time": "2021-02-01T08:31:24.563288Z",
     "start_time": "2021-02-01T08:31:24.560205Z"
    }
   },
   "outputs": [
    {
     "data": {
      "text/plain": [
       "(1212, 100)"
      ]
     },
     "execution_count": 38,
     "metadata": {},
     "output_type": "execute_result"
    }
   ],
   "source": [
    "hill_valley.data.shape"
   ]
  },
  {
   "cell_type": "code",
   "execution_count": 39,
   "id": "brilliant-following",
   "metadata": {
    "ExecuteTime": {
     "end_time": "2021-02-01T08:31:25.464094Z",
     "start_time": "2021-02-01T08:31:25.459869Z"
    }
   },
   "outputs": [
    {
     "data": {
      "text/plain": [
       "0    0\n",
       "1    1\n",
       "2    1\n",
       "3    0\n",
       "4    0\n",
       "Name: Class, dtype: category\n",
       "Categories (2, object): ['0', '1']"
      ]
     },
     "execution_count": 39,
     "metadata": {},
     "output_type": "execute_result"
    }
   ],
   "source": [
    "hill_valley.target.head()"
   ]
  },
  {
   "cell_type": "code",
   "execution_count": 54,
   "id": "helpful-daisy",
   "metadata": {
    "ExecuteTime": {
     "end_time": "2021-02-01T10:00:23.797535Z",
     "start_time": "2021-02-01T10:00:23.793774Z"
    }
   },
   "outputs": [],
   "source": [
    "comparison_datasets['valley'] = {\"task\": TaskNames.classification, \n",
    "                                 \"features\": hill_valley.data, \n",
    "                                 \"target\": hill_valley.target,\n",
    "                                 \"cv\": 8}"
   ]
  },
  {
   "cell_type": "markdown",
   "id": "liberal-toddler",
   "metadata": {},
   "source": [
    "# Cars"
   ]
  },
  {
   "cell_type": "code",
   "execution_count": 41,
   "id": "caring-cambodia",
   "metadata": {
    "ExecuteTime": {
     "end_time": "2021-02-01T08:31:27.416280Z",
     "start_time": "2021-02-01T08:31:27.303075Z"
    }
   },
   "outputs": [],
   "source": [
    "cars = pd.read_csv(\"cars.csv\")"
   ]
  },
  {
   "cell_type": "code",
   "execution_count": 44,
   "id": "senior-vegetable",
   "metadata": {
    "ExecuteTime": {
     "end_time": "2021-02-01T08:31:58.490203Z",
     "start_time": "2021-02-01T08:31:58.468315Z"
    }
   },
   "outputs": [
    {
     "data": {
      "text/html": [
       "<div>\n",
       "<style scoped>\n",
       "    .dataframe tbody tr th:only-of-type {\n",
       "        vertical-align: middle;\n",
       "    }\n",
       "\n",
       "    .dataframe tbody tr th {\n",
       "        vertical-align: top;\n",
       "    }\n",
       "\n",
       "    .dataframe thead th {\n",
       "        text-align: right;\n",
       "    }\n",
       "</style>\n",
       "<table border=\"1\" class=\"dataframe\">\n",
       "  <thead>\n",
       "    <tr style=\"text-align: right;\">\n",
       "      <th></th>\n",
       "      <th>manufacturer_name</th>\n",
       "      <th>model_name</th>\n",
       "      <th>transmission</th>\n",
       "      <th>color</th>\n",
       "      <th>odometer_value</th>\n",
       "      <th>year_produced</th>\n",
       "      <th>engine_fuel</th>\n",
       "      <th>engine_has_gas</th>\n",
       "      <th>engine_type</th>\n",
       "      <th>engine_capacity</th>\n",
       "      <th>body_type</th>\n",
       "      <th>has_warranty</th>\n",
       "      <th>state</th>\n",
       "      <th>drivetrain</th>\n",
       "      <th>price_usd</th>\n",
       "      <th>is_exchangeable</th>\n",
       "      <th>location_region</th>\n",
       "      <th>number_of_photos</th>\n",
       "      <th>up_counter</th>\n",
       "      <th>feature_0</th>\n",
       "      <th>feature_1</th>\n",
       "      <th>feature_2</th>\n",
       "      <th>feature_3</th>\n",
       "      <th>feature_4</th>\n",
       "      <th>feature_5</th>\n",
       "      <th>feature_6</th>\n",
       "      <th>feature_7</th>\n",
       "      <th>feature_8</th>\n",
       "      <th>feature_9</th>\n",
       "      <th>duration_listed</th>\n",
       "    </tr>\n",
       "  </thead>\n",
       "  <tbody>\n",
       "    <tr>\n",
       "      <th>0</th>\n",
       "      <td>Subaru</td>\n",
       "      <td>Outback</td>\n",
       "      <td>automatic</td>\n",
       "      <td>silver</td>\n",
       "      <td>190000</td>\n",
       "      <td>2010</td>\n",
       "      <td>gasoline</td>\n",
       "      <td>False</td>\n",
       "      <td>gasoline</td>\n",
       "      <td>2.5</td>\n",
       "      <td>universal</td>\n",
       "      <td>False</td>\n",
       "      <td>owned</td>\n",
       "      <td>all</td>\n",
       "      <td>10900.00</td>\n",
       "      <td>False</td>\n",
       "      <td>Минская обл.</td>\n",
       "      <td>9</td>\n",
       "      <td>13</td>\n",
       "      <td>False</td>\n",
       "      <td>True</td>\n",
       "      <td>True</td>\n",
       "      <td>True</td>\n",
       "      <td>False</td>\n",
       "      <td>True</td>\n",
       "      <td>False</td>\n",
       "      <td>True</td>\n",
       "      <td>True</td>\n",
       "      <td>True</td>\n",
       "      <td>16</td>\n",
       "    </tr>\n",
       "    <tr>\n",
       "      <th>1</th>\n",
       "      <td>Subaru</td>\n",
       "      <td>Outback</td>\n",
       "      <td>automatic</td>\n",
       "      <td>blue</td>\n",
       "      <td>290000</td>\n",
       "      <td>2002</td>\n",
       "      <td>gasoline</td>\n",
       "      <td>False</td>\n",
       "      <td>gasoline</td>\n",
       "      <td>3.0</td>\n",
       "      <td>universal</td>\n",
       "      <td>False</td>\n",
       "      <td>owned</td>\n",
       "      <td>all</td>\n",
       "      <td>5000.00</td>\n",
       "      <td>True</td>\n",
       "      <td>Минская обл.</td>\n",
       "      <td>12</td>\n",
       "      <td>54</td>\n",
       "      <td>False</td>\n",
       "      <td>True</td>\n",
       "      <td>False</td>\n",
       "      <td>False</td>\n",
       "      <td>True</td>\n",
       "      <td>True</td>\n",
       "      <td>False</td>\n",
       "      <td>False</td>\n",
       "      <td>False</td>\n",
       "      <td>True</td>\n",
       "      <td>83</td>\n",
       "    </tr>\n",
       "    <tr>\n",
       "      <th>2</th>\n",
       "      <td>Subaru</td>\n",
       "      <td>Forester</td>\n",
       "      <td>automatic</td>\n",
       "      <td>red</td>\n",
       "      <td>402000</td>\n",
       "      <td>2001</td>\n",
       "      <td>gasoline</td>\n",
       "      <td>False</td>\n",
       "      <td>gasoline</td>\n",
       "      <td>2.5</td>\n",
       "      <td>suv</td>\n",
       "      <td>False</td>\n",
       "      <td>owned</td>\n",
       "      <td>all</td>\n",
       "      <td>2800.00</td>\n",
       "      <td>True</td>\n",
       "      <td>Минская обл.</td>\n",
       "      <td>4</td>\n",
       "      <td>72</td>\n",
       "      <td>False</td>\n",
       "      <td>True</td>\n",
       "      <td>False</td>\n",
       "      <td>False</td>\n",
       "      <td>False</td>\n",
       "      <td>False</td>\n",
       "      <td>False</td>\n",
       "      <td>False</td>\n",
       "      <td>True</td>\n",
       "      <td>True</td>\n",
       "      <td>151</td>\n",
       "    </tr>\n",
       "    <tr>\n",
       "      <th>3</th>\n",
       "      <td>Subaru</td>\n",
       "      <td>Impreza</td>\n",
       "      <td>mechanical</td>\n",
       "      <td>blue</td>\n",
       "      <td>10000</td>\n",
       "      <td>1999</td>\n",
       "      <td>gasoline</td>\n",
       "      <td>False</td>\n",
       "      <td>gasoline</td>\n",
       "      <td>3.0</td>\n",
       "      <td>sedan</td>\n",
       "      <td>False</td>\n",
       "      <td>owned</td>\n",
       "      <td>all</td>\n",
       "      <td>9999.00</td>\n",
       "      <td>True</td>\n",
       "      <td>Минская обл.</td>\n",
       "      <td>9</td>\n",
       "      <td>42</td>\n",
       "      <td>True</td>\n",
       "      <td>False</td>\n",
       "      <td>False</td>\n",
       "      <td>False</td>\n",
       "      <td>False</td>\n",
       "      <td>False</td>\n",
       "      <td>False</td>\n",
       "      <td>False</td>\n",
       "      <td>False</td>\n",
       "      <td>False</td>\n",
       "      <td>86</td>\n",
       "    </tr>\n",
       "    <tr>\n",
       "      <th>4</th>\n",
       "      <td>Subaru</td>\n",
       "      <td>Legacy</td>\n",
       "      <td>automatic</td>\n",
       "      <td>black</td>\n",
       "      <td>280000</td>\n",
       "      <td>2001</td>\n",
       "      <td>gasoline</td>\n",
       "      <td>False</td>\n",
       "      <td>gasoline</td>\n",
       "      <td>2.5</td>\n",
       "      <td>universal</td>\n",
       "      <td>False</td>\n",
       "      <td>owned</td>\n",
       "      <td>all</td>\n",
       "      <td>2134.11</td>\n",
       "      <td>True</td>\n",
       "      <td>Гомельская обл.</td>\n",
       "      <td>14</td>\n",
       "      <td>7</td>\n",
       "      <td>False</td>\n",
       "      <td>True</td>\n",
       "      <td>False</td>\n",
       "      <td>True</td>\n",
       "      <td>True</td>\n",
       "      <td>False</td>\n",
       "      <td>False</td>\n",
       "      <td>False</td>\n",
       "      <td>False</td>\n",
       "      <td>True</td>\n",
       "      <td>7</td>\n",
       "    </tr>\n",
       "  </tbody>\n",
       "</table>\n",
       "</div>"
      ],
      "text/plain": [
       "  manufacturer_name model_name transmission   color  odometer_value  \\\n",
       "0            Subaru    Outback    automatic  silver          190000   \n",
       "1            Subaru    Outback    automatic    blue          290000   \n",
       "2            Subaru   Forester    automatic     red          402000   \n",
       "3            Subaru    Impreza   mechanical    blue           10000   \n",
       "4            Subaru     Legacy    automatic   black          280000   \n",
       "\n",
       "   year_produced engine_fuel  engine_has_gas engine_type  engine_capacity  \\\n",
       "0           2010    gasoline           False    gasoline              2.5   \n",
       "1           2002    gasoline           False    gasoline              3.0   \n",
       "2           2001    gasoline           False    gasoline              2.5   \n",
       "3           1999    gasoline           False    gasoline              3.0   \n",
       "4           2001    gasoline           False    gasoline              2.5   \n",
       "\n",
       "   body_type  has_warranty  state drivetrain  price_usd  is_exchangeable  \\\n",
       "0  universal         False  owned        all   10900.00            False   \n",
       "1  universal         False  owned        all    5000.00             True   \n",
       "2        suv         False  owned        all    2800.00             True   \n",
       "3      sedan         False  owned        all    9999.00             True   \n",
       "4  universal         False  owned        all    2134.11             True   \n",
       "\n",
       "   location_region  number_of_photos  up_counter  feature_0  feature_1  \\\n",
       "0     Минская обл.                 9          13      False       True   \n",
       "1     Минская обл.                12          54      False       True   \n",
       "2     Минская обл.                 4          72      False       True   \n",
       "3     Минская обл.                 9          42       True      False   \n",
       "4  Гомельская обл.                14           7      False       True   \n",
       "\n",
       "   feature_2  feature_3  feature_4  feature_5  feature_6  feature_7  \\\n",
       "0       True       True      False       True      False       True   \n",
       "1      False      False       True       True      False      False   \n",
       "2      False      False      False      False      False      False   \n",
       "3      False      False      False      False      False      False   \n",
       "4      False       True       True      False      False      False   \n",
       "\n",
       "   feature_8  feature_9  duration_listed  \n",
       "0       True       True               16  \n",
       "1      False       True               83  \n",
       "2       True       True              151  \n",
       "3      False      False               86  \n",
       "4      False       True                7  "
      ]
     },
     "execution_count": 44,
     "metadata": {},
     "output_type": "execute_result"
    }
   ],
   "source": [
    "cars.head()"
   ]
  },
  {
   "cell_type": "code",
   "execution_count": 45,
   "id": "minimal-delight",
   "metadata": {
    "ExecuteTime": {
     "end_time": "2021-02-01T08:33:18.200084Z",
     "start_time": "2021-02-01T08:33:18.196380Z"
    }
   },
   "outputs": [
    {
     "data": {
      "text/plain": [
       "(38531, 30)"
      ]
     },
     "execution_count": 45,
     "metadata": {},
     "output_type": "execute_result"
    }
   ],
   "source": [
    "cars.shape"
   ]
  },
  {
   "cell_type": "code",
   "execution_count": 53,
   "id": "parliamentary-ordinance",
   "metadata": {
    "ExecuteTime": {
     "end_time": "2021-02-01T10:00:19.522025Z",
     "start_time": "2021-02-01T10:00:19.515543Z"
    }
   },
   "outputs": [],
   "source": [
    "cars_target = \"duration_listed\"\n",
    "comparison_datasets['cars'] = {\"task\": TaskNames.regression, \n",
    "                                 \"features\": cars.drop(columns=cars_target), \n",
    "                                 \"target\": cars[cars_target],\n",
    "                                 \"cv\": 4}"
   ]
  },
  {
   "cell_type": "markdown",
   "id": "attractive-waters",
   "metadata": {},
   "source": [
    "# Comparaison"
   ]
  },
  {
   "cell_type": "code",
   "execution_count": 47,
   "id": "attached-highway",
   "metadata": {
    "ExecuteTime": {
     "end_time": "2021-02-01T08:35:28.736048Z",
     "start_time": "2021-02-01T08:35:28.732803Z"
    }
   },
   "outputs": [],
   "source": [
    "def get_comparison(dataset_infos):\n",
    "    comparison = ModelComparison(task_name=dataset_infos[\"task\"], \n",
    "                             cross_validation_n_folds=dataset_infos[\"cv\"], \n",
    "                             features=dataset_infos[\"features\"], \n",
    "                             target=dataset_infos[\"target\"])\n",
    "    return comparison.get_default_models_scores_and_training_time()"
   ]
  },
  {
   "cell_type": "code",
   "execution_count": 55,
   "id": "vertical-nutrition",
   "metadata": {
    "ExecuteTime": {
     "end_time": "2021-02-01T10:27:09.046535Z",
     "start_time": "2021-02-01T10:00:28.485365Z"
    },
    "scrolled": true
   },
   "outputs": [
    {
     "data": {
      "text/plain": [
       "{'california': {<ModelNames.catboost: 'catboost'>: (0.6680916221949819,\n",
       "   23.259527921676636),\n",
       "  <ModelNames.lightgbm: 'lightgbm'>: (0.6737943493533225, 0.9568119049072266),\n",
       "  <ModelNames.lightgbm_with_cat_encoder: 'lightgbm_with_cat_encoder'>: (0.6737943493533225,\n",
       "   1.0438101291656494),\n",
       "  <ModelNames.xgboost: 'xgboost'>: (0.6264496146911739, 2.5029420852661133),\n",
       "  <ModelNames.xgboost_with_cat_encoder: 'xgboost_with_cat_encoder'>: (0.6264496146911739,\n",
       "   2.8358547687530518)},\n",
       " 'covtype': {<ModelNames.catboost: 'catboost'>: (0.5393038353768941,\n",
       "   136.3773431777954),\n",
       "  <ModelNames.lightgbm: 'lightgbm'>: (0.5435085678092707, 26.974705934524536),\n",
       "  <ModelNames.lightgbm_with_cat_encoder: 'lightgbm_with_cat_encoder'>: (0.541035297033452,\n",
       "   27.85984992980957),\n",
       "  <ModelNames.xgboost: 'xgboost'>: (0.5617078476864505, 149.85198998451233),\n",
       "  <ModelNames.xgboost_with_cat_encoder: 'xgboost_with_cat_encoder'>: (0.5617078476864505,\n",
       "   154.48683381080627)},\n",
       " 'adult': {<ModelNames.catboost: 'catboost'>: (0.8600180363283303,\n",
       "   152.98906016349792),\n",
       "  <ModelNames.lightgbm: 'lightgbm'>: (0.8592400023179649, 1.4421260356903076),\n",
       "  <ModelNames.lightgbm_with_cat_encoder: 'lightgbm_with_cat_encoder'>: (0.8592400023179649,\n",
       "   1.7200016975402832),\n",
       "  <ModelNames.xgboost: 'xgboost'>: (0.856168858236666, 3.792595863342285),\n",
       "  <ModelNames.xgboost_with_cat_encoder: 'xgboost_with_cat_encoder'>: (0.8541009683606522,\n",
       "   8.182641983032227)},\n",
       " 'ukair': {<ModelNames.catboost: 'catboost'>: (0.7161672199003934,\n",
       "   139.7632188796997),\n",
       "  <ModelNames.lightgbm: 'lightgbm'>: (0.7307163376145871, 2.863469123840332),\n",
       "  <ModelNames.lightgbm_with_cat_encoder: 'lightgbm_with_cat_encoder'>: (0.7307163376145871,\n",
       "   2.6188547611236572),\n",
       "  <ModelNames.xgboost: 'xgboost'>: (0.726965422296389, 4.442605018615723),\n",
       "  <ModelNames.xgboost_with_cat_encoder: 'xgboost_with_cat_encoder'>: (0.7235339014148696,\n",
       "   12.646867036819458)},\n",
       " 'diabetes': {<ModelNames.catboost: 'catboost'>: (0.7616883116883117,\n",
       "   14.88273000717163),\n",
       "  <ModelNames.lightgbm: 'lightgbm'>: (0.7409432672590568, 3.2438251972198486),\n",
       "  <ModelNames.lightgbm_with_cat_encoder: 'lightgbm_with_cat_encoder'>: (0.7409432672590568,\n",
       "   4.118898868560791),\n",
       "  <ModelNames.xgboost: 'xgboost'>: (0.7357142857142857, 2.4509003162384033),\n",
       "  <ModelNames.xgboost_with_cat_encoder: 'xgboost_with_cat_encoder'>: (0.7357142857142857,\n",
       "   2.4231669902801514)},\n",
       " 'bank': {<ModelNames.catboost: 'catboost'>: (0.5623104595909653,\n",
       "   125.84190320968628),\n",
       "  <ModelNames.lightgbm: 'lightgbm'>: (0.6364971950778834, 4.806279182434082),\n",
       "  <ModelNames.lightgbm_with_cat_encoder: 'lightgbm_with_cat_encoder'>: (0.6364971950778834,\n",
       "   4.4414122104644775),\n",
       "  <ModelNames.xgboost: 'xgboost'>: (0.6334670104401916, 3.140760660171509),\n",
       "  <ModelNames.xgboost_with_cat_encoder: 'xgboost_with_cat_encoder'>: (0.6154365427419204,\n",
       "   6.335133790969849)},\n",
       " 'dating': {<ModelNames.catboost: 'catboost'>: (0.8399381708245053,\n",
       "   362.72963976860046),\n",
       "  <ModelNames.lightgbm: 'lightgbm'>: (0.8438762896888475, 6.9528279304504395),\n",
       "  <ModelNames.lightgbm_with_cat_encoder: 'lightgbm_with_cat_encoder'>: (0.8438762896888475,\n",
       "   2.5413708686828613),\n",
       "  <ModelNames.xgboost: 'xgboost'>: (0.8407744046971989, 5.855341196060181),\n",
       "  <ModelNames.xgboost_with_cat_encoder: 'xgboost_with_cat_encoder'>: (0.8434007858290961,\n",
       "   13.761384963989258)},\n",
       " 'valley': {<ModelNames.catboost: 'catboost'>: (0.5214687173231092,\n",
       "   51.811469078063965),\n",
       "  <ModelNames.lightgbm: 'lightgbm'>: (0.5924538166608574, 5.0150980949401855),\n",
       "  <ModelNames.lightgbm_with_cat_encoder: 'lightgbm_with_cat_encoder'>: (0.5924538166608574,\n",
       "   5.747892141342163),\n",
       "  <ModelNames.xgboost: 'xgboost'>: (0.5577836354130359, 3.491387128829956),\n",
       "  <ModelNames.xgboost_with_cat_encoder: 'xgboost_with_cat_encoder'>: (0.5577836354130359,\n",
       "   3.656024217605591)},\n",
       " 'cars': {<ModelNames.catboost: 'catboost'>: (0.31217204364274753,\n",
       "   85.07480883598328),\n",
       "  <ModelNames.lightgbm: 'lightgbm'>: (0.4645861463538315, 4.217848777770996),\n",
       "  <ModelNames.lightgbm_with_cat_encoder: 'lightgbm_with_cat_encoder'>: (0.4645861463538315,\n",
       "   3.958890914916992),\n",
       "  <ModelNames.xgboost: 'xgboost'>: (0.2936550035657026, 3.938499927520752),\n",
       "  <ModelNames.xgboost_with_cat_encoder: 'xgboost_with_cat_encoder'>: (0.21194748738820396,\n",
       "   10.844510078430176)}}"
      ]
     },
     "execution_count": 55,
     "metadata": {},
     "output_type": "execute_result"
    }
   ],
   "source": [
    "perf_comparisons = {dataset_name: get_comparison(comparison_datasets[dataset_name])\n",
    "                   for dataset_name in comparison_datasets.keys()}\n",
    "perf_comparisons"
   ]
  },
  {
   "cell_type": "code",
   "execution_count": 56,
   "id": "fiscal-planner",
   "metadata": {
    "ExecuteTime": {
     "end_time": "2021-02-01T10:28:32.963971Z",
     "start_time": "2021-02-01T10:28:32.960216Z"
    }
   },
   "outputs": [],
   "source": [
    "lightgbm_performance = [perf_comparisons[dataset_perfs][ModelNames.lightgbm][0]\n",
    "                       for dataset_perfs in perf_comparisons.keys()]\n",
    "catboost_performance = [perf_comparisons[dataset_perfs][ModelNames.catboost][0]\n",
    "                       for dataset_perfs in perf_comparisons.keys()]\n",
    "xgboost_performance = [perf_comparisons[dataset_perfs][ModelNames.xgboost][0]\n",
    "                       for dataset_perfs in perf_comparisons.keys()]\n",
    "xgboost_cat_performance = [perf_comparisons[dataset_perfs][ModelNames.xgboost_with_cat_encoder][0]\n",
    "                       for dataset_perfs in perf_comparisons.keys()]\n",
    "lightgbm_cat_performance = [perf_comparisons[dataset_perfs][ModelNames.lightgbm_with_cat_encoder][0]\n",
    "                       for dataset_perfs in perf_comparisons.keys()]"
   ]
  },
  {
   "cell_type": "code",
   "execution_count": 57,
   "id": "bored-program",
   "metadata": {
    "ExecuteTime": {
     "end_time": "2021-02-01T10:28:34.288852Z",
     "start_time": "2021-02-01T10:28:34.276060Z"
    }
   },
   "outputs": [
    {
     "data": {
      "text/html": [
       "<div>\n",
       "<style scoped>\n",
       "    .dataframe tbody tr th:only-of-type {\n",
       "        vertical-align: middle;\n",
       "    }\n",
       "\n",
       "    .dataframe tbody tr th {\n",
       "        vertical-align: top;\n",
       "    }\n",
       "\n",
       "    .dataframe thead th {\n",
       "        text-align: right;\n",
       "    }\n",
       "</style>\n",
       "<table border=\"1\" class=\"dataframe\">\n",
       "  <thead>\n",
       "    <tr style=\"text-align: right;\">\n",
       "      <th></th>\n",
       "      <th>dataset</th>\n",
       "      <th>lightgbm</th>\n",
       "      <th>lightgbm_cat</th>\n",
       "      <th>catboost</th>\n",
       "      <th>xgboost_cat</th>\n",
       "      <th>dataset_length</th>\n",
       "    </tr>\n",
       "  </thead>\n",
       "  <tbody>\n",
       "    <tr>\n",
       "      <th>4</th>\n",
       "      <td>diabetes</td>\n",
       "      <td>1.007107</td>\n",
       "      <td>1.007107</td>\n",
       "      <td>1.035305</td>\n",
       "      <td>1.000000</td>\n",
       "      <td>768</td>\n",
       "    </tr>\n",
       "    <tr>\n",
       "      <th>7</th>\n",
       "      <td>valley</td>\n",
       "      <td>1.062157</td>\n",
       "      <td>1.062157</td>\n",
       "      <td>0.934894</td>\n",
       "      <td>1.000000</td>\n",
       "      <td>1212</td>\n",
       "    </tr>\n",
       "    <tr>\n",
       "      <th>6</th>\n",
       "      <td>dating</td>\n",
       "      <td>1.003689</td>\n",
       "      <td>1.003689</td>\n",
       "      <td>0.999005</td>\n",
       "      <td>1.003124</td>\n",
       "      <td>8378</td>\n",
       "    </tr>\n",
       "    <tr>\n",
       "      <th>0</th>\n",
       "      <td>california</td>\n",
       "      <td>1.075576</td>\n",
       "      <td>1.075576</td>\n",
       "      <td>1.066473</td>\n",
       "      <td>1.000000</td>\n",
       "      <td>20640</td>\n",
       "    </tr>\n",
       "    <tr>\n",
       "      <th>8</th>\n",
       "      <td>cars</td>\n",
       "      <td>1.582081</td>\n",
       "      <td>1.582081</td>\n",
       "      <td>1.063057</td>\n",
       "      <td>0.721757</td>\n",
       "      <td>38531</td>\n",
       "    </tr>\n",
       "    <tr>\n",
       "      <th>5</th>\n",
       "      <td>bank</td>\n",
       "      <td>1.004783</td>\n",
       "      <td>1.004783</td>\n",
       "      <td>0.887671</td>\n",
       "      <td>0.971537</td>\n",
       "      <td>45211</td>\n",
       "    </tr>\n",
       "    <tr>\n",
       "      <th>2</th>\n",
       "      <td>adult</td>\n",
       "      <td>1.003587</td>\n",
       "      <td>1.003587</td>\n",
       "      <td>1.004496</td>\n",
       "      <td>0.997585</td>\n",
       "      <td>48842</td>\n",
       "    </tr>\n",
       "    <tr>\n",
       "      <th>3</th>\n",
       "      <td>ukair</td>\n",
       "      <td>1.005160</td>\n",
       "      <td>1.005160</td>\n",
       "      <td>0.985146</td>\n",
       "      <td>0.995280</td>\n",
       "      <td>394299</td>\n",
       "    </tr>\n",
       "    <tr>\n",
       "      <th>1</th>\n",
       "      <td>covtype</td>\n",
       "      <td>0.967600</td>\n",
       "      <td>0.963197</td>\n",
       "      <td>0.960114</td>\n",
       "      <td>1.000000</td>\n",
       "      <td>581012</td>\n",
       "    </tr>\n",
       "  </tbody>\n",
       "</table>\n",
       "</div>"
      ],
      "text/plain": [
       "      dataset  lightgbm  lightgbm_cat  catboost  xgboost_cat  dataset_length\n",
       "4    diabetes  1.007107      1.007107  1.035305     1.000000             768\n",
       "7      valley  1.062157      1.062157  0.934894     1.000000            1212\n",
       "6      dating  1.003689      1.003689  0.999005     1.003124            8378\n",
       "0  california  1.075576      1.075576  1.066473     1.000000           20640\n",
       "8        cars  1.582081      1.582081  1.063057     0.721757           38531\n",
       "5        bank  1.004783      1.004783  0.887671     0.971537           45211\n",
       "2       adult  1.003587      1.003587  1.004496     0.997585           48842\n",
       "3       ukair  1.005160      1.005160  0.985146     0.995280          394299\n",
       "1     covtype  0.967600      0.963197  0.960114     1.000000          581012"
      ]
     },
     "execution_count": 57,
     "metadata": {},
     "output_type": "execute_result"
    }
   ],
   "source": [
    "perfs_per_dataset = pd.DataFrame({\"dataset\": perf_comparisons.keys(),\n",
    "                                 \"lightgbm\": [l / x for l, x in zip(lightgbm_performance, xgboost_performance)],\n",
    "                                 \"lightgbm_cat\": [lc / x for lc, x in zip(lightgbm_cat_performance, xgboost_performance)],\n",
    "                                 \"catboost\": [c / x for c, x in zip(catboost_performance, xgboost_performance)],\n",
    "                                 \"xgboost_cat\": [xc / x for xc, x in zip(xgboost_cat_performance, xgboost_performance)],\n",
    "                                 \"dataset_length\": [len(dataset[\"features\"])\n",
    "                                                   for dataset in comparison_datasets.values()]})\n",
    "perfs_per_dataset.sort_values(\"dataset_length\")"
   ]
  },
  {
   "cell_type": "code",
   "execution_count": 77,
   "id": "preliminary-window",
   "metadata": {
    "ExecuteTime": {
     "end_time": "2021-02-01T13:12:10.873909Z",
     "start_time": "2021-02-01T13:12:10.810577Z"
    }
   },
   "outputs": [
    {
     "name": "stderr",
     "output_type": "stream",
     "text": [
      "/Users/victorlandeau/Library/Caches/pypoetry/virtualenvs/tabular-models-benchmark-BMhtYu43-py3.8/lib/python3.8/site-packages/ipykernel/ipkernel.py:283: DeprecationWarning:\n",
      "\n",
      "`should_run_async` will not call `transform_cell` automatically in the future. Please pass the result to `transformed_cell` argument and any exception that happen during thetransform in `preprocessing_exc_tuple` in IPython 7.17 and above.\n",
      "\n"
     ]
    },
    {
     "data": {
      "application/vnd.plotly.v1+json": {
       "config": {
        "plotlyServerURL": "https://plot.ly"
       },
       "data": [
        {
         "hovertemplate": "dataset_length=%{x}<br>lightgbm=%{y}<extra></extra>",
         "legendgroup": "",
         "marker": {
          "color": "#636efa",
          "symbol": "circle"
         },
         "mode": "markers",
         "name": "",
         "orientation": "v",
         "showlegend": false,
         "type": "scatter",
         "x": [
          20640,
          581012,
          48842,
          394299,
          768,
          45211,
          8378,
          1212,
          38531
         ],
         "xaxis": "x",
         "y": [
          1.07557628507041,
          0.967600096825888,
          1.0035870775393818,
          1.0051596887598166,
          1.0071073535559996,
          1.004783492411998,
          1.0036893190067624,
          1.0621570427073366,
          1.5820814926107145
         ],
         "yaxis": "y"
        }
       ],
       "layout": {
        "legend": {
         "tracegroupgap": 0
        },
        "margin": {
         "t": 60
        },
        "template": {
         "data": {
          "bar": [
           {
            "error_x": {
             "color": "#2a3f5f"
            },
            "error_y": {
             "color": "#2a3f5f"
            },
            "marker": {
             "line": {
              "color": "#E5ECF6",
              "width": 0.5
             }
            },
            "type": "bar"
           }
          ],
          "barpolar": [
           {
            "marker": {
             "line": {
              "color": "#E5ECF6",
              "width": 0.5
             }
            },
            "type": "barpolar"
           }
          ],
          "carpet": [
           {
            "aaxis": {
             "endlinecolor": "#2a3f5f",
             "gridcolor": "white",
             "linecolor": "white",
             "minorgridcolor": "white",
             "startlinecolor": "#2a3f5f"
            },
            "baxis": {
             "endlinecolor": "#2a3f5f",
             "gridcolor": "white",
             "linecolor": "white",
             "minorgridcolor": "white",
             "startlinecolor": "#2a3f5f"
            },
            "type": "carpet"
           }
          ],
          "choropleth": [
           {
            "colorbar": {
             "outlinewidth": 0,
             "ticks": ""
            },
            "type": "choropleth"
           }
          ],
          "contour": [
           {
            "colorbar": {
             "outlinewidth": 0,
             "ticks": ""
            },
            "colorscale": [
             [
              0,
              "#0d0887"
             ],
             [
              0.1111111111111111,
              "#46039f"
             ],
             [
              0.2222222222222222,
              "#7201a8"
             ],
             [
              0.3333333333333333,
              "#9c179e"
             ],
             [
              0.4444444444444444,
              "#bd3786"
             ],
             [
              0.5555555555555556,
              "#d8576b"
             ],
             [
              0.6666666666666666,
              "#ed7953"
             ],
             [
              0.7777777777777778,
              "#fb9f3a"
             ],
             [
              0.8888888888888888,
              "#fdca26"
             ],
             [
              1,
              "#f0f921"
             ]
            ],
            "type": "contour"
           }
          ],
          "contourcarpet": [
           {
            "colorbar": {
             "outlinewidth": 0,
             "ticks": ""
            },
            "type": "contourcarpet"
           }
          ],
          "heatmap": [
           {
            "colorbar": {
             "outlinewidth": 0,
             "ticks": ""
            },
            "colorscale": [
             [
              0,
              "#0d0887"
             ],
             [
              0.1111111111111111,
              "#46039f"
             ],
             [
              0.2222222222222222,
              "#7201a8"
             ],
             [
              0.3333333333333333,
              "#9c179e"
             ],
             [
              0.4444444444444444,
              "#bd3786"
             ],
             [
              0.5555555555555556,
              "#d8576b"
             ],
             [
              0.6666666666666666,
              "#ed7953"
             ],
             [
              0.7777777777777778,
              "#fb9f3a"
             ],
             [
              0.8888888888888888,
              "#fdca26"
             ],
             [
              1,
              "#f0f921"
             ]
            ],
            "type": "heatmap"
           }
          ],
          "heatmapgl": [
           {
            "colorbar": {
             "outlinewidth": 0,
             "ticks": ""
            },
            "colorscale": [
             [
              0,
              "#0d0887"
             ],
             [
              0.1111111111111111,
              "#46039f"
             ],
             [
              0.2222222222222222,
              "#7201a8"
             ],
             [
              0.3333333333333333,
              "#9c179e"
             ],
             [
              0.4444444444444444,
              "#bd3786"
             ],
             [
              0.5555555555555556,
              "#d8576b"
             ],
             [
              0.6666666666666666,
              "#ed7953"
             ],
             [
              0.7777777777777778,
              "#fb9f3a"
             ],
             [
              0.8888888888888888,
              "#fdca26"
             ],
             [
              1,
              "#f0f921"
             ]
            ],
            "type": "heatmapgl"
           }
          ],
          "histogram": [
           {
            "marker": {
             "colorbar": {
              "outlinewidth": 0,
              "ticks": ""
             }
            },
            "type": "histogram"
           }
          ],
          "histogram2d": [
           {
            "colorbar": {
             "outlinewidth": 0,
             "ticks": ""
            },
            "colorscale": [
             [
              0,
              "#0d0887"
             ],
             [
              0.1111111111111111,
              "#46039f"
             ],
             [
              0.2222222222222222,
              "#7201a8"
             ],
             [
              0.3333333333333333,
              "#9c179e"
             ],
             [
              0.4444444444444444,
              "#bd3786"
             ],
             [
              0.5555555555555556,
              "#d8576b"
             ],
             [
              0.6666666666666666,
              "#ed7953"
             ],
             [
              0.7777777777777778,
              "#fb9f3a"
             ],
             [
              0.8888888888888888,
              "#fdca26"
             ],
             [
              1,
              "#f0f921"
             ]
            ],
            "type": "histogram2d"
           }
          ],
          "histogram2dcontour": [
           {
            "colorbar": {
             "outlinewidth": 0,
             "ticks": ""
            },
            "colorscale": [
             [
              0,
              "#0d0887"
             ],
             [
              0.1111111111111111,
              "#46039f"
             ],
             [
              0.2222222222222222,
              "#7201a8"
             ],
             [
              0.3333333333333333,
              "#9c179e"
             ],
             [
              0.4444444444444444,
              "#bd3786"
             ],
             [
              0.5555555555555556,
              "#d8576b"
             ],
             [
              0.6666666666666666,
              "#ed7953"
             ],
             [
              0.7777777777777778,
              "#fb9f3a"
             ],
             [
              0.8888888888888888,
              "#fdca26"
             ],
             [
              1,
              "#f0f921"
             ]
            ],
            "type": "histogram2dcontour"
           }
          ],
          "mesh3d": [
           {
            "colorbar": {
             "outlinewidth": 0,
             "ticks": ""
            },
            "type": "mesh3d"
           }
          ],
          "parcoords": [
           {
            "line": {
             "colorbar": {
              "outlinewidth": 0,
              "ticks": ""
             }
            },
            "type": "parcoords"
           }
          ],
          "pie": [
           {
            "automargin": true,
            "type": "pie"
           }
          ],
          "scatter": [
           {
            "marker": {
             "colorbar": {
              "outlinewidth": 0,
              "ticks": ""
             }
            },
            "type": "scatter"
           }
          ],
          "scatter3d": [
           {
            "line": {
             "colorbar": {
              "outlinewidth": 0,
              "ticks": ""
             }
            },
            "marker": {
             "colorbar": {
              "outlinewidth": 0,
              "ticks": ""
             }
            },
            "type": "scatter3d"
           }
          ],
          "scattercarpet": [
           {
            "marker": {
             "colorbar": {
              "outlinewidth": 0,
              "ticks": ""
             }
            },
            "type": "scattercarpet"
           }
          ],
          "scattergeo": [
           {
            "marker": {
             "colorbar": {
              "outlinewidth": 0,
              "ticks": ""
             }
            },
            "type": "scattergeo"
           }
          ],
          "scattergl": [
           {
            "marker": {
             "colorbar": {
              "outlinewidth": 0,
              "ticks": ""
             }
            },
            "type": "scattergl"
           }
          ],
          "scattermapbox": [
           {
            "marker": {
             "colorbar": {
              "outlinewidth": 0,
              "ticks": ""
             }
            },
            "type": "scattermapbox"
           }
          ],
          "scatterpolar": [
           {
            "marker": {
             "colorbar": {
              "outlinewidth": 0,
              "ticks": ""
             }
            },
            "type": "scatterpolar"
           }
          ],
          "scatterpolargl": [
           {
            "marker": {
             "colorbar": {
              "outlinewidth": 0,
              "ticks": ""
             }
            },
            "type": "scatterpolargl"
           }
          ],
          "scatterternary": [
           {
            "marker": {
             "colorbar": {
              "outlinewidth": 0,
              "ticks": ""
             }
            },
            "type": "scatterternary"
           }
          ],
          "surface": [
           {
            "colorbar": {
             "outlinewidth": 0,
             "ticks": ""
            },
            "colorscale": [
             [
              0,
              "#0d0887"
             ],
             [
              0.1111111111111111,
              "#46039f"
             ],
             [
              0.2222222222222222,
              "#7201a8"
             ],
             [
              0.3333333333333333,
              "#9c179e"
             ],
             [
              0.4444444444444444,
              "#bd3786"
             ],
             [
              0.5555555555555556,
              "#d8576b"
             ],
             [
              0.6666666666666666,
              "#ed7953"
             ],
             [
              0.7777777777777778,
              "#fb9f3a"
             ],
             [
              0.8888888888888888,
              "#fdca26"
             ],
             [
              1,
              "#f0f921"
             ]
            ],
            "type": "surface"
           }
          ],
          "table": [
           {
            "cells": {
             "fill": {
              "color": "#EBF0F8"
             },
             "line": {
              "color": "white"
             }
            },
            "header": {
             "fill": {
              "color": "#C8D4E3"
             },
             "line": {
              "color": "white"
             }
            },
            "type": "table"
           }
          ]
         },
         "layout": {
          "annotationdefaults": {
           "arrowcolor": "#2a3f5f",
           "arrowhead": 0,
           "arrowwidth": 1
          },
          "autotypenumbers": "strict",
          "coloraxis": {
           "colorbar": {
            "outlinewidth": 0,
            "ticks": ""
           }
          },
          "colorscale": {
           "diverging": [
            [
             0,
             "#8e0152"
            ],
            [
             0.1,
             "#c51b7d"
            ],
            [
             0.2,
             "#de77ae"
            ],
            [
             0.3,
             "#f1b6da"
            ],
            [
             0.4,
             "#fde0ef"
            ],
            [
             0.5,
             "#f7f7f7"
            ],
            [
             0.6,
             "#e6f5d0"
            ],
            [
             0.7,
             "#b8e186"
            ],
            [
             0.8,
             "#7fbc41"
            ],
            [
             0.9,
             "#4d9221"
            ],
            [
             1,
             "#276419"
            ]
           ],
           "sequential": [
            [
             0,
             "#0d0887"
            ],
            [
             0.1111111111111111,
             "#46039f"
            ],
            [
             0.2222222222222222,
             "#7201a8"
            ],
            [
             0.3333333333333333,
             "#9c179e"
            ],
            [
             0.4444444444444444,
             "#bd3786"
            ],
            [
             0.5555555555555556,
             "#d8576b"
            ],
            [
             0.6666666666666666,
             "#ed7953"
            ],
            [
             0.7777777777777778,
             "#fb9f3a"
            ],
            [
             0.8888888888888888,
             "#fdca26"
            ],
            [
             1,
             "#f0f921"
            ]
           ],
           "sequentialminus": [
            [
             0,
             "#0d0887"
            ],
            [
             0.1111111111111111,
             "#46039f"
            ],
            [
             0.2222222222222222,
             "#7201a8"
            ],
            [
             0.3333333333333333,
             "#9c179e"
            ],
            [
             0.4444444444444444,
             "#bd3786"
            ],
            [
             0.5555555555555556,
             "#d8576b"
            ],
            [
             0.6666666666666666,
             "#ed7953"
            ],
            [
             0.7777777777777778,
             "#fb9f3a"
            ],
            [
             0.8888888888888888,
             "#fdca26"
            ],
            [
             1,
             "#f0f921"
            ]
           ]
          },
          "colorway": [
           "#636efa",
           "#EF553B",
           "#00cc96",
           "#ab63fa",
           "#FFA15A",
           "#19d3f3",
           "#FF6692",
           "#B6E880",
           "#FF97FF",
           "#FECB52"
          ],
          "font": {
           "color": "#2a3f5f"
          },
          "geo": {
           "bgcolor": "white",
           "lakecolor": "white",
           "landcolor": "#E5ECF6",
           "showlakes": true,
           "showland": true,
           "subunitcolor": "white"
          },
          "hoverlabel": {
           "align": "left"
          },
          "hovermode": "closest",
          "mapbox": {
           "style": "light"
          },
          "paper_bgcolor": "white",
          "plot_bgcolor": "#E5ECF6",
          "polar": {
           "angularaxis": {
            "gridcolor": "white",
            "linecolor": "white",
            "ticks": ""
           },
           "bgcolor": "#E5ECF6",
           "radialaxis": {
            "gridcolor": "white",
            "linecolor": "white",
            "ticks": ""
           }
          },
          "scene": {
           "xaxis": {
            "backgroundcolor": "#E5ECF6",
            "gridcolor": "white",
            "gridwidth": 2,
            "linecolor": "white",
            "showbackground": true,
            "ticks": "",
            "zerolinecolor": "white"
           },
           "yaxis": {
            "backgroundcolor": "#E5ECF6",
            "gridcolor": "white",
            "gridwidth": 2,
            "linecolor": "white",
            "showbackground": true,
            "ticks": "",
            "zerolinecolor": "white"
           },
           "zaxis": {
            "backgroundcolor": "#E5ECF6",
            "gridcolor": "white",
            "gridwidth": 2,
            "linecolor": "white",
            "showbackground": true,
            "ticks": "",
            "zerolinecolor": "white"
           }
          },
          "shapedefaults": {
           "line": {
            "color": "#2a3f5f"
           }
          },
          "ternary": {
           "aaxis": {
            "gridcolor": "white",
            "linecolor": "white",
            "ticks": ""
           },
           "baxis": {
            "gridcolor": "white",
            "linecolor": "white",
            "ticks": ""
           },
           "bgcolor": "#E5ECF6",
           "caxis": {
            "gridcolor": "white",
            "linecolor": "white",
            "ticks": ""
           }
          },
          "title": {
           "x": 0.05
          },
          "xaxis": {
           "automargin": true,
           "gridcolor": "white",
           "linecolor": "white",
           "ticks": "",
           "title": {
            "standoff": 15
           },
           "zerolinecolor": "white",
           "zerolinewidth": 2
          },
          "yaxis": {
           "automargin": true,
           "gridcolor": "white",
           "linecolor": "white",
           "ticks": "",
           "title": {
            "standoff": 15
           },
           "zerolinecolor": "white",
           "zerolinewidth": 2
          }
         }
        },
        "xaxis": {
         "anchor": "y",
         "domain": [
          0,
          1
         ],
         "title": {
          "text": "dataset_length"
         },
         "type": "log"
        },
        "yaxis": {
         "anchor": "x",
         "domain": [
          0,
          1
         ],
         "title": {
          "text": "lightgbm"
         }
        }
       }
      },
      "text/html": [
       "<div>                            <div id=\"277ccc68-78eb-4d8d-bc97-27b958b667e6\" class=\"plotly-graph-div\" style=\"height:525px; width:100%;\"></div>            <script type=\"text/javascript\">                require([\"plotly\"], function(Plotly) {                    window.PLOTLYENV=window.PLOTLYENV || {};                                    if (document.getElementById(\"277ccc68-78eb-4d8d-bc97-27b958b667e6\")) {                    Plotly.newPlot(                        \"277ccc68-78eb-4d8d-bc97-27b958b667e6\",                        [{\"hovertemplate\": \"dataset_length=%{x}<br>lightgbm=%{y}<extra></extra>\", \"legendgroup\": \"\", \"marker\": {\"color\": \"#636efa\", \"symbol\": \"circle\"}, \"mode\": \"markers\", \"name\": \"\", \"orientation\": \"v\", \"showlegend\": false, \"type\": \"scatter\", \"x\": [20640, 581012, 48842, 394299, 768, 45211, 8378, 1212, 38531], \"xaxis\": \"x\", \"y\": [1.07557628507041, 0.967600096825888, 1.0035870775393818, 1.0051596887598166, 1.0071073535559996, 1.004783492411998, 1.0036893190067624, 1.0621570427073366, 1.5820814926107145], \"yaxis\": \"y\"}],                        {\"legend\": {\"tracegroupgap\": 0}, \"margin\": {\"t\": 60}, \"template\": {\"data\": {\"bar\": [{\"error_x\": {\"color\": \"#2a3f5f\"}, \"error_y\": {\"color\": \"#2a3f5f\"}, \"marker\": {\"line\": {\"color\": \"#E5ECF6\", \"width\": 0.5}}, \"type\": \"bar\"}], \"barpolar\": [{\"marker\": {\"line\": {\"color\": \"#E5ECF6\", \"width\": 0.5}}, \"type\": \"barpolar\"}], \"carpet\": [{\"aaxis\": {\"endlinecolor\": \"#2a3f5f\", \"gridcolor\": \"white\", \"linecolor\": \"white\", \"minorgridcolor\": \"white\", \"startlinecolor\": \"#2a3f5f\"}, \"baxis\": {\"endlinecolor\": \"#2a3f5f\", \"gridcolor\": \"white\", \"linecolor\": \"white\", \"minorgridcolor\": \"white\", \"startlinecolor\": \"#2a3f5f\"}, \"type\": \"carpet\"}], \"choropleth\": [{\"colorbar\": {\"outlinewidth\": 0, \"ticks\": \"\"}, \"type\": \"choropleth\"}], \"contour\": [{\"colorbar\": {\"outlinewidth\": 0, \"ticks\": \"\"}, \"colorscale\": [[0.0, \"#0d0887\"], [0.1111111111111111, \"#46039f\"], [0.2222222222222222, \"#7201a8\"], [0.3333333333333333, \"#9c179e\"], [0.4444444444444444, \"#bd3786\"], [0.5555555555555556, \"#d8576b\"], [0.6666666666666666, \"#ed7953\"], [0.7777777777777778, \"#fb9f3a\"], [0.8888888888888888, \"#fdca26\"], [1.0, \"#f0f921\"]], \"type\": \"contour\"}], \"contourcarpet\": [{\"colorbar\": {\"outlinewidth\": 0, \"ticks\": \"\"}, \"type\": \"contourcarpet\"}], \"heatmap\": [{\"colorbar\": {\"outlinewidth\": 0, \"ticks\": \"\"}, \"colorscale\": [[0.0, \"#0d0887\"], [0.1111111111111111, \"#46039f\"], [0.2222222222222222, \"#7201a8\"], [0.3333333333333333, \"#9c179e\"], [0.4444444444444444, \"#bd3786\"], [0.5555555555555556, \"#d8576b\"], [0.6666666666666666, \"#ed7953\"], [0.7777777777777778, \"#fb9f3a\"], [0.8888888888888888, \"#fdca26\"], [1.0, \"#f0f921\"]], \"type\": \"heatmap\"}], \"heatmapgl\": [{\"colorbar\": {\"outlinewidth\": 0, \"ticks\": \"\"}, \"colorscale\": [[0.0, \"#0d0887\"], [0.1111111111111111, \"#46039f\"], [0.2222222222222222, \"#7201a8\"], [0.3333333333333333, \"#9c179e\"], [0.4444444444444444, \"#bd3786\"], [0.5555555555555556, \"#d8576b\"], [0.6666666666666666, \"#ed7953\"], [0.7777777777777778, \"#fb9f3a\"], [0.8888888888888888, \"#fdca26\"], [1.0, \"#f0f921\"]], \"type\": \"heatmapgl\"}], \"histogram\": [{\"marker\": {\"colorbar\": {\"outlinewidth\": 0, \"ticks\": \"\"}}, \"type\": \"histogram\"}], \"histogram2d\": [{\"colorbar\": {\"outlinewidth\": 0, \"ticks\": \"\"}, \"colorscale\": [[0.0, \"#0d0887\"], [0.1111111111111111, \"#46039f\"], [0.2222222222222222, \"#7201a8\"], [0.3333333333333333, \"#9c179e\"], [0.4444444444444444, \"#bd3786\"], [0.5555555555555556, \"#d8576b\"], [0.6666666666666666, \"#ed7953\"], [0.7777777777777778, \"#fb9f3a\"], [0.8888888888888888, \"#fdca26\"], [1.0, \"#f0f921\"]], \"type\": \"histogram2d\"}], \"histogram2dcontour\": [{\"colorbar\": {\"outlinewidth\": 0, \"ticks\": \"\"}, \"colorscale\": [[0.0, \"#0d0887\"], [0.1111111111111111, \"#46039f\"], [0.2222222222222222, \"#7201a8\"], [0.3333333333333333, \"#9c179e\"], [0.4444444444444444, \"#bd3786\"], [0.5555555555555556, \"#d8576b\"], [0.6666666666666666, \"#ed7953\"], [0.7777777777777778, \"#fb9f3a\"], [0.8888888888888888, \"#fdca26\"], [1.0, \"#f0f921\"]], \"type\": \"histogram2dcontour\"}], \"mesh3d\": [{\"colorbar\": {\"outlinewidth\": 0, \"ticks\": \"\"}, \"type\": \"mesh3d\"}], \"parcoords\": [{\"line\": {\"colorbar\": {\"outlinewidth\": 0, \"ticks\": \"\"}}, \"type\": \"parcoords\"}], \"pie\": [{\"automargin\": true, \"type\": \"pie\"}], \"scatter\": [{\"marker\": {\"colorbar\": {\"outlinewidth\": 0, \"ticks\": \"\"}}, \"type\": \"scatter\"}], \"scatter3d\": [{\"line\": {\"colorbar\": {\"outlinewidth\": 0, \"ticks\": \"\"}}, \"marker\": {\"colorbar\": {\"outlinewidth\": 0, \"ticks\": \"\"}}, \"type\": \"scatter3d\"}], \"scattercarpet\": [{\"marker\": {\"colorbar\": {\"outlinewidth\": 0, \"ticks\": \"\"}}, \"type\": \"scattercarpet\"}], \"scattergeo\": [{\"marker\": {\"colorbar\": {\"outlinewidth\": 0, \"ticks\": \"\"}}, \"type\": \"scattergeo\"}], \"scattergl\": [{\"marker\": {\"colorbar\": {\"outlinewidth\": 0, \"ticks\": \"\"}}, \"type\": \"scattergl\"}], \"scattermapbox\": [{\"marker\": {\"colorbar\": {\"outlinewidth\": 0, \"ticks\": \"\"}}, \"type\": \"scattermapbox\"}], \"scatterpolar\": [{\"marker\": {\"colorbar\": {\"outlinewidth\": 0, \"ticks\": \"\"}}, \"type\": \"scatterpolar\"}], \"scatterpolargl\": [{\"marker\": {\"colorbar\": {\"outlinewidth\": 0, \"ticks\": \"\"}}, \"type\": \"scatterpolargl\"}], \"scatterternary\": [{\"marker\": {\"colorbar\": {\"outlinewidth\": 0, \"ticks\": \"\"}}, \"type\": \"scatterternary\"}], \"surface\": [{\"colorbar\": {\"outlinewidth\": 0, \"ticks\": \"\"}, \"colorscale\": [[0.0, \"#0d0887\"], [0.1111111111111111, \"#46039f\"], [0.2222222222222222, \"#7201a8\"], [0.3333333333333333, \"#9c179e\"], [0.4444444444444444, \"#bd3786\"], [0.5555555555555556, \"#d8576b\"], [0.6666666666666666, \"#ed7953\"], [0.7777777777777778, \"#fb9f3a\"], [0.8888888888888888, \"#fdca26\"], [1.0, \"#f0f921\"]], \"type\": \"surface\"}], \"table\": [{\"cells\": {\"fill\": {\"color\": \"#EBF0F8\"}, \"line\": {\"color\": \"white\"}}, \"header\": {\"fill\": {\"color\": \"#C8D4E3\"}, \"line\": {\"color\": \"white\"}}, \"type\": \"table\"}]}, \"layout\": {\"annotationdefaults\": {\"arrowcolor\": \"#2a3f5f\", \"arrowhead\": 0, \"arrowwidth\": 1}, \"autotypenumbers\": \"strict\", \"coloraxis\": {\"colorbar\": {\"outlinewidth\": 0, \"ticks\": \"\"}}, \"colorscale\": {\"diverging\": [[0, \"#8e0152\"], [0.1, \"#c51b7d\"], [0.2, \"#de77ae\"], [0.3, \"#f1b6da\"], [0.4, \"#fde0ef\"], [0.5, \"#f7f7f7\"], [0.6, \"#e6f5d0\"], [0.7, \"#b8e186\"], [0.8, \"#7fbc41\"], [0.9, \"#4d9221\"], [1, \"#276419\"]], \"sequential\": [[0.0, \"#0d0887\"], [0.1111111111111111, \"#46039f\"], [0.2222222222222222, \"#7201a8\"], [0.3333333333333333, \"#9c179e\"], [0.4444444444444444, \"#bd3786\"], [0.5555555555555556, \"#d8576b\"], [0.6666666666666666, \"#ed7953\"], [0.7777777777777778, \"#fb9f3a\"], [0.8888888888888888, \"#fdca26\"], [1.0, \"#f0f921\"]], \"sequentialminus\": [[0.0, \"#0d0887\"], [0.1111111111111111, \"#46039f\"], [0.2222222222222222, \"#7201a8\"], [0.3333333333333333, \"#9c179e\"], [0.4444444444444444, \"#bd3786\"], [0.5555555555555556, \"#d8576b\"], [0.6666666666666666, \"#ed7953\"], [0.7777777777777778, \"#fb9f3a\"], [0.8888888888888888, \"#fdca26\"], [1.0, \"#f0f921\"]]}, \"colorway\": [\"#636efa\", \"#EF553B\", \"#00cc96\", \"#ab63fa\", \"#FFA15A\", \"#19d3f3\", \"#FF6692\", \"#B6E880\", \"#FF97FF\", \"#FECB52\"], \"font\": {\"color\": \"#2a3f5f\"}, \"geo\": {\"bgcolor\": \"white\", \"lakecolor\": \"white\", \"landcolor\": \"#E5ECF6\", \"showlakes\": true, \"showland\": true, \"subunitcolor\": \"white\"}, \"hoverlabel\": {\"align\": \"left\"}, \"hovermode\": \"closest\", \"mapbox\": {\"style\": \"light\"}, \"paper_bgcolor\": \"white\", \"plot_bgcolor\": \"#E5ECF6\", \"polar\": {\"angularaxis\": {\"gridcolor\": \"white\", \"linecolor\": \"white\", \"ticks\": \"\"}, \"bgcolor\": \"#E5ECF6\", \"radialaxis\": {\"gridcolor\": \"white\", \"linecolor\": \"white\", \"ticks\": \"\"}}, \"scene\": {\"xaxis\": {\"backgroundcolor\": \"#E5ECF6\", \"gridcolor\": \"white\", \"gridwidth\": 2, \"linecolor\": \"white\", \"showbackground\": true, \"ticks\": \"\", \"zerolinecolor\": \"white\"}, \"yaxis\": {\"backgroundcolor\": \"#E5ECF6\", \"gridcolor\": \"white\", \"gridwidth\": 2, \"linecolor\": \"white\", \"showbackground\": true, \"ticks\": \"\", \"zerolinecolor\": \"white\"}, \"zaxis\": {\"backgroundcolor\": \"#E5ECF6\", \"gridcolor\": \"white\", \"gridwidth\": 2, \"linecolor\": \"white\", \"showbackground\": true, \"ticks\": \"\", \"zerolinecolor\": \"white\"}}, \"shapedefaults\": {\"line\": {\"color\": \"#2a3f5f\"}}, \"ternary\": {\"aaxis\": {\"gridcolor\": \"white\", \"linecolor\": \"white\", \"ticks\": \"\"}, \"baxis\": {\"gridcolor\": \"white\", \"linecolor\": \"white\", \"ticks\": \"\"}, \"bgcolor\": \"#E5ECF6\", \"caxis\": {\"gridcolor\": \"white\", \"linecolor\": \"white\", \"ticks\": \"\"}}, \"title\": {\"x\": 0.05}, \"xaxis\": {\"automargin\": true, \"gridcolor\": \"white\", \"linecolor\": \"white\", \"ticks\": \"\", \"title\": {\"standoff\": 15}, \"zerolinecolor\": \"white\", \"zerolinewidth\": 2}, \"yaxis\": {\"automargin\": true, \"gridcolor\": \"white\", \"linecolor\": \"white\", \"ticks\": \"\", \"title\": {\"standoff\": 15}, \"zerolinecolor\": \"white\", \"zerolinewidth\": 2}}}, \"xaxis\": {\"anchor\": \"y\", \"domain\": [0.0, 1.0], \"title\": {\"text\": \"dataset_length\"}, \"type\": \"log\"}, \"yaxis\": {\"anchor\": \"x\", \"domain\": [0.0, 1.0], \"title\": {\"text\": \"lightgbm\"}}},                        {\"responsive\": true}                    ).then(function(){\n",
       "                            \n",
       "var gd = document.getElementById('277ccc68-78eb-4d8d-bc97-27b958b667e6');\n",
       "var x = new MutationObserver(function (mutations, observer) {{\n",
       "        var display = window.getComputedStyle(gd).display;\n",
       "        if (!display || display === 'none') {{\n",
       "            console.log([gd, 'removed!']);\n",
       "            Plotly.purge(gd);\n",
       "            observer.disconnect();\n",
       "        }}\n",
       "}});\n",
       "\n",
       "// Listen for the removal of the full notebook cells\n",
       "var notebookContainer = gd.closest('#notebook-container');\n",
       "if (notebookContainer) {{\n",
       "    x.observe(notebookContainer, {childList: true});\n",
       "}}\n",
       "\n",
       "// Listen for the clearing of the current output cell\n",
       "var outputEl = gd.closest('.output');\n",
       "if (outputEl) {{\n",
       "    x.observe(outputEl, {childList: true});\n",
       "}}\n",
       "\n",
       "                        })                };                });            </script>        </div>"
      ]
     },
     "metadata": {},
     "output_type": "display_data"
    }
   ],
   "source": [
    "import plotly.express as px\n",
    "px.scatter(perfs_per_dataset, x=\"dataset_length\", y=\"lightgbm\", log_x=True)\n"
   ]
  },
  {
   "cell_type": "code",
   "execution_count": 59,
   "id": "miniature-coach",
   "metadata": {
    "ExecuteTime": {
     "end_time": "2021-02-01T10:28:36.992791Z",
     "start_time": "2021-02-01T10:28:36.980764Z"
    }
   },
   "outputs": [
    {
     "data": {
      "application/vnd.plotly.v1+json": {
       "config": {
        "plotlyServerURL": "https://plot.ly"
       },
       "data": [
        {
         "name": "catboost",
         "type": "bar",
         "x": [
          "california",
          "covtype",
          "adult",
          "ukair",
          "diabetes",
          "bank",
          "dating",
          "valley",
          "cars"
         ],
         "y": [
          0.6680916221949819,
          0.5393038353768941,
          0.8600180363283303,
          0.7161672199003934,
          0.7616883116883117,
          0.5623104595909653,
          0.8399381708245053,
          0.5214687173231092,
          0.31217204364274753
         ]
        },
        {
         "name": "lightgbm",
         "type": "bar",
         "x": [
          "california",
          "covtype",
          "adult",
          "ukair",
          "diabetes",
          "bank",
          "dating",
          "valley",
          "cars"
         ],
         "y": [
          0.6737943493533225,
          0.5435085678092707,
          0.8592400023179649,
          0.7307163376145871,
          0.7409432672590568,
          0.6364971950778834,
          0.8438762896888475,
          0.5924538166608574,
          0.4645861463538315
         ]
        },
        {
         "name": "xgboost",
         "type": "bar",
         "x": [
          "california",
          "covtype",
          "adult",
          "ukair",
          "diabetes",
          "bank",
          "dating",
          "valley",
          "cars"
         ],
         "y": [
          0.6264496146911739,
          0.5617078476864505,
          0.856168858236666,
          0.726965422296389,
          0.7357142857142857,
          0.6334670104401916,
          0.8407744046971989,
          0.5577836354130359,
          0.2936550035657026
         ]
        },
        {
         "name": "xgboost_cat",
         "type": "bar",
         "x": [
          "california",
          "covtype",
          "adult",
          "ukair",
          "diabetes",
          "bank",
          "dating",
          "valley",
          "cars"
         ],
         "y": [
          0.6264496146911739,
          0.5617078476864505,
          0.8541009683606522,
          0.7235339014148696,
          0.7357142857142857,
          0.6154365427419204,
          0.8434007858290961,
          0.5577836354130359,
          0.21194748738820396
         ]
        },
        {
         "name": "lightgbm_cat",
         "type": "bar",
         "x": [
          "california",
          "covtype",
          "adult",
          "ukair",
          "diabetes",
          "bank",
          "dating",
          "valley",
          "cars"
         ],
         "y": [
          0.6737943493533225,
          0.541035297033452,
          0.8592400023179649,
          0.7307163376145871,
          0.7409432672590568,
          0.6364971950778834,
          0.8438762896888475,
          0.5924538166608574,
          0.4645861463538315
         ]
        }
       ],
       "layout": {
        "barmode": "group",
        "template": {
         "data": {
          "bar": [
           {
            "error_x": {
             "color": "#2a3f5f"
            },
            "error_y": {
             "color": "#2a3f5f"
            },
            "marker": {
             "line": {
              "color": "#E5ECF6",
              "width": 0.5
             }
            },
            "type": "bar"
           }
          ],
          "barpolar": [
           {
            "marker": {
             "line": {
              "color": "#E5ECF6",
              "width": 0.5
             }
            },
            "type": "barpolar"
           }
          ],
          "carpet": [
           {
            "aaxis": {
             "endlinecolor": "#2a3f5f",
             "gridcolor": "white",
             "linecolor": "white",
             "minorgridcolor": "white",
             "startlinecolor": "#2a3f5f"
            },
            "baxis": {
             "endlinecolor": "#2a3f5f",
             "gridcolor": "white",
             "linecolor": "white",
             "minorgridcolor": "white",
             "startlinecolor": "#2a3f5f"
            },
            "type": "carpet"
           }
          ],
          "choropleth": [
           {
            "colorbar": {
             "outlinewidth": 0,
             "ticks": ""
            },
            "type": "choropleth"
           }
          ],
          "contour": [
           {
            "colorbar": {
             "outlinewidth": 0,
             "ticks": ""
            },
            "colorscale": [
             [
              0,
              "#0d0887"
             ],
             [
              0.1111111111111111,
              "#46039f"
             ],
             [
              0.2222222222222222,
              "#7201a8"
             ],
             [
              0.3333333333333333,
              "#9c179e"
             ],
             [
              0.4444444444444444,
              "#bd3786"
             ],
             [
              0.5555555555555556,
              "#d8576b"
             ],
             [
              0.6666666666666666,
              "#ed7953"
             ],
             [
              0.7777777777777778,
              "#fb9f3a"
             ],
             [
              0.8888888888888888,
              "#fdca26"
             ],
             [
              1,
              "#f0f921"
             ]
            ],
            "type": "contour"
           }
          ],
          "contourcarpet": [
           {
            "colorbar": {
             "outlinewidth": 0,
             "ticks": ""
            },
            "type": "contourcarpet"
           }
          ],
          "heatmap": [
           {
            "colorbar": {
             "outlinewidth": 0,
             "ticks": ""
            },
            "colorscale": [
             [
              0,
              "#0d0887"
             ],
             [
              0.1111111111111111,
              "#46039f"
             ],
             [
              0.2222222222222222,
              "#7201a8"
             ],
             [
              0.3333333333333333,
              "#9c179e"
             ],
             [
              0.4444444444444444,
              "#bd3786"
             ],
             [
              0.5555555555555556,
              "#d8576b"
             ],
             [
              0.6666666666666666,
              "#ed7953"
             ],
             [
              0.7777777777777778,
              "#fb9f3a"
             ],
             [
              0.8888888888888888,
              "#fdca26"
             ],
             [
              1,
              "#f0f921"
             ]
            ],
            "type": "heatmap"
           }
          ],
          "heatmapgl": [
           {
            "colorbar": {
             "outlinewidth": 0,
             "ticks": ""
            },
            "colorscale": [
             [
              0,
              "#0d0887"
             ],
             [
              0.1111111111111111,
              "#46039f"
             ],
             [
              0.2222222222222222,
              "#7201a8"
             ],
             [
              0.3333333333333333,
              "#9c179e"
             ],
             [
              0.4444444444444444,
              "#bd3786"
             ],
             [
              0.5555555555555556,
              "#d8576b"
             ],
             [
              0.6666666666666666,
              "#ed7953"
             ],
             [
              0.7777777777777778,
              "#fb9f3a"
             ],
             [
              0.8888888888888888,
              "#fdca26"
             ],
             [
              1,
              "#f0f921"
             ]
            ],
            "type": "heatmapgl"
           }
          ],
          "histogram": [
           {
            "marker": {
             "colorbar": {
              "outlinewidth": 0,
              "ticks": ""
             }
            },
            "type": "histogram"
           }
          ],
          "histogram2d": [
           {
            "colorbar": {
             "outlinewidth": 0,
             "ticks": ""
            },
            "colorscale": [
             [
              0,
              "#0d0887"
             ],
             [
              0.1111111111111111,
              "#46039f"
             ],
             [
              0.2222222222222222,
              "#7201a8"
             ],
             [
              0.3333333333333333,
              "#9c179e"
             ],
             [
              0.4444444444444444,
              "#bd3786"
             ],
             [
              0.5555555555555556,
              "#d8576b"
             ],
             [
              0.6666666666666666,
              "#ed7953"
             ],
             [
              0.7777777777777778,
              "#fb9f3a"
             ],
             [
              0.8888888888888888,
              "#fdca26"
             ],
             [
              1,
              "#f0f921"
             ]
            ],
            "type": "histogram2d"
           }
          ],
          "histogram2dcontour": [
           {
            "colorbar": {
             "outlinewidth": 0,
             "ticks": ""
            },
            "colorscale": [
             [
              0,
              "#0d0887"
             ],
             [
              0.1111111111111111,
              "#46039f"
             ],
             [
              0.2222222222222222,
              "#7201a8"
             ],
             [
              0.3333333333333333,
              "#9c179e"
             ],
             [
              0.4444444444444444,
              "#bd3786"
             ],
             [
              0.5555555555555556,
              "#d8576b"
             ],
             [
              0.6666666666666666,
              "#ed7953"
             ],
             [
              0.7777777777777778,
              "#fb9f3a"
             ],
             [
              0.8888888888888888,
              "#fdca26"
             ],
             [
              1,
              "#f0f921"
             ]
            ],
            "type": "histogram2dcontour"
           }
          ],
          "mesh3d": [
           {
            "colorbar": {
             "outlinewidth": 0,
             "ticks": ""
            },
            "type": "mesh3d"
           }
          ],
          "parcoords": [
           {
            "line": {
             "colorbar": {
              "outlinewidth": 0,
              "ticks": ""
             }
            },
            "type": "parcoords"
           }
          ],
          "pie": [
           {
            "automargin": true,
            "type": "pie"
           }
          ],
          "scatter": [
           {
            "marker": {
             "colorbar": {
              "outlinewidth": 0,
              "ticks": ""
             }
            },
            "type": "scatter"
           }
          ],
          "scatter3d": [
           {
            "line": {
             "colorbar": {
              "outlinewidth": 0,
              "ticks": ""
             }
            },
            "marker": {
             "colorbar": {
              "outlinewidth": 0,
              "ticks": ""
             }
            },
            "type": "scatter3d"
           }
          ],
          "scattercarpet": [
           {
            "marker": {
             "colorbar": {
              "outlinewidth": 0,
              "ticks": ""
             }
            },
            "type": "scattercarpet"
           }
          ],
          "scattergeo": [
           {
            "marker": {
             "colorbar": {
              "outlinewidth": 0,
              "ticks": ""
             }
            },
            "type": "scattergeo"
           }
          ],
          "scattergl": [
           {
            "marker": {
             "colorbar": {
              "outlinewidth": 0,
              "ticks": ""
             }
            },
            "type": "scattergl"
           }
          ],
          "scattermapbox": [
           {
            "marker": {
             "colorbar": {
              "outlinewidth": 0,
              "ticks": ""
             }
            },
            "type": "scattermapbox"
           }
          ],
          "scatterpolar": [
           {
            "marker": {
             "colorbar": {
              "outlinewidth": 0,
              "ticks": ""
             }
            },
            "type": "scatterpolar"
           }
          ],
          "scatterpolargl": [
           {
            "marker": {
             "colorbar": {
              "outlinewidth": 0,
              "ticks": ""
             }
            },
            "type": "scatterpolargl"
           }
          ],
          "scatterternary": [
           {
            "marker": {
             "colorbar": {
              "outlinewidth": 0,
              "ticks": ""
             }
            },
            "type": "scatterternary"
           }
          ],
          "surface": [
           {
            "colorbar": {
             "outlinewidth": 0,
             "ticks": ""
            },
            "colorscale": [
             [
              0,
              "#0d0887"
             ],
             [
              0.1111111111111111,
              "#46039f"
             ],
             [
              0.2222222222222222,
              "#7201a8"
             ],
             [
              0.3333333333333333,
              "#9c179e"
             ],
             [
              0.4444444444444444,
              "#bd3786"
             ],
             [
              0.5555555555555556,
              "#d8576b"
             ],
             [
              0.6666666666666666,
              "#ed7953"
             ],
             [
              0.7777777777777778,
              "#fb9f3a"
             ],
             [
              0.8888888888888888,
              "#fdca26"
             ],
             [
              1,
              "#f0f921"
             ]
            ],
            "type": "surface"
           }
          ],
          "table": [
           {
            "cells": {
             "fill": {
              "color": "#EBF0F8"
             },
             "line": {
              "color": "white"
             }
            },
            "header": {
             "fill": {
              "color": "#C8D4E3"
             },
             "line": {
              "color": "white"
             }
            },
            "type": "table"
           }
          ]
         },
         "layout": {
          "annotationdefaults": {
           "arrowcolor": "#2a3f5f",
           "arrowhead": 0,
           "arrowwidth": 1
          },
          "autotypenumbers": "strict",
          "coloraxis": {
           "colorbar": {
            "outlinewidth": 0,
            "ticks": ""
           }
          },
          "colorscale": {
           "diverging": [
            [
             0,
             "#8e0152"
            ],
            [
             0.1,
             "#c51b7d"
            ],
            [
             0.2,
             "#de77ae"
            ],
            [
             0.3,
             "#f1b6da"
            ],
            [
             0.4,
             "#fde0ef"
            ],
            [
             0.5,
             "#f7f7f7"
            ],
            [
             0.6,
             "#e6f5d0"
            ],
            [
             0.7,
             "#b8e186"
            ],
            [
             0.8,
             "#7fbc41"
            ],
            [
             0.9,
             "#4d9221"
            ],
            [
             1,
             "#276419"
            ]
           ],
           "sequential": [
            [
             0,
             "#0d0887"
            ],
            [
             0.1111111111111111,
             "#46039f"
            ],
            [
             0.2222222222222222,
             "#7201a8"
            ],
            [
             0.3333333333333333,
             "#9c179e"
            ],
            [
             0.4444444444444444,
             "#bd3786"
            ],
            [
             0.5555555555555556,
             "#d8576b"
            ],
            [
             0.6666666666666666,
             "#ed7953"
            ],
            [
             0.7777777777777778,
             "#fb9f3a"
            ],
            [
             0.8888888888888888,
             "#fdca26"
            ],
            [
             1,
             "#f0f921"
            ]
           ],
           "sequentialminus": [
            [
             0,
             "#0d0887"
            ],
            [
             0.1111111111111111,
             "#46039f"
            ],
            [
             0.2222222222222222,
             "#7201a8"
            ],
            [
             0.3333333333333333,
             "#9c179e"
            ],
            [
             0.4444444444444444,
             "#bd3786"
            ],
            [
             0.5555555555555556,
             "#d8576b"
            ],
            [
             0.6666666666666666,
             "#ed7953"
            ],
            [
             0.7777777777777778,
             "#fb9f3a"
            ],
            [
             0.8888888888888888,
             "#fdca26"
            ],
            [
             1,
             "#f0f921"
            ]
           ]
          },
          "colorway": [
           "#636efa",
           "#EF553B",
           "#00cc96",
           "#ab63fa",
           "#FFA15A",
           "#19d3f3",
           "#FF6692",
           "#B6E880",
           "#FF97FF",
           "#FECB52"
          ],
          "font": {
           "color": "#2a3f5f"
          },
          "geo": {
           "bgcolor": "white",
           "lakecolor": "white",
           "landcolor": "#E5ECF6",
           "showlakes": true,
           "showland": true,
           "subunitcolor": "white"
          },
          "hoverlabel": {
           "align": "left"
          },
          "hovermode": "closest",
          "mapbox": {
           "style": "light"
          },
          "paper_bgcolor": "white",
          "plot_bgcolor": "#E5ECF6",
          "polar": {
           "angularaxis": {
            "gridcolor": "white",
            "linecolor": "white",
            "ticks": ""
           },
           "bgcolor": "#E5ECF6",
           "radialaxis": {
            "gridcolor": "white",
            "linecolor": "white",
            "ticks": ""
           }
          },
          "scene": {
           "xaxis": {
            "backgroundcolor": "#E5ECF6",
            "gridcolor": "white",
            "gridwidth": 2,
            "linecolor": "white",
            "showbackground": true,
            "ticks": "",
            "zerolinecolor": "white"
           },
           "yaxis": {
            "backgroundcolor": "#E5ECF6",
            "gridcolor": "white",
            "gridwidth": 2,
            "linecolor": "white",
            "showbackground": true,
            "ticks": "",
            "zerolinecolor": "white"
           },
           "zaxis": {
            "backgroundcolor": "#E5ECF6",
            "gridcolor": "white",
            "gridwidth": 2,
            "linecolor": "white",
            "showbackground": true,
            "ticks": "",
            "zerolinecolor": "white"
           }
          },
          "shapedefaults": {
           "line": {
            "color": "#2a3f5f"
           }
          },
          "ternary": {
           "aaxis": {
            "gridcolor": "white",
            "linecolor": "white",
            "ticks": ""
           },
           "baxis": {
            "gridcolor": "white",
            "linecolor": "white",
            "ticks": ""
           },
           "bgcolor": "#E5ECF6",
           "caxis": {
            "gridcolor": "white",
            "linecolor": "white",
            "ticks": ""
           }
          },
          "title": {
           "x": 0.05
          },
          "xaxis": {
           "automargin": true,
           "gridcolor": "white",
           "linecolor": "white",
           "ticks": "",
           "title": {
            "standoff": 15
           },
           "zerolinecolor": "white",
           "zerolinewidth": 2
          },
          "yaxis": {
           "automargin": true,
           "gridcolor": "white",
           "linecolor": "white",
           "ticks": "",
           "title": {
            "standoff": 15
           },
           "zerolinecolor": "white",
           "zerolinewidth": 2
          }
         }
        }
       }
      },
      "text/html": [
       "<div>                            <div id=\"bb4f19df-c4b4-45b8-ba19-5add08c5356e\" class=\"plotly-graph-div\" style=\"height:525px; width:100%;\"></div>            <script type=\"text/javascript\">                require([\"plotly\"], function(Plotly) {                    window.PLOTLYENV=window.PLOTLYENV || {};                                    if (document.getElementById(\"bb4f19df-c4b4-45b8-ba19-5add08c5356e\")) {                    Plotly.newPlot(                        \"bb4f19df-c4b4-45b8-ba19-5add08c5356e\",                        [{\"name\": \"catboost\", \"type\": \"bar\", \"x\": [\"california\", \"covtype\", \"adult\", \"ukair\", \"diabetes\", \"bank\", \"dating\", \"valley\", \"cars\"], \"y\": [0.6680916221949819, 0.5393038353768941, 0.8600180363283303, 0.7161672199003934, 0.7616883116883117, 0.5623104595909653, 0.8399381708245053, 0.5214687173231092, 0.31217204364274753]}, {\"name\": \"lightgbm\", \"type\": \"bar\", \"x\": [\"california\", \"covtype\", \"adult\", \"ukair\", \"diabetes\", \"bank\", \"dating\", \"valley\", \"cars\"], \"y\": [0.6737943493533225, 0.5435085678092707, 0.8592400023179649, 0.7307163376145871, 0.7409432672590568, 0.6364971950778834, 0.8438762896888475, 0.5924538166608574, 0.4645861463538315]}, {\"name\": \"xgboost\", \"type\": \"bar\", \"x\": [\"california\", \"covtype\", \"adult\", \"ukair\", \"diabetes\", \"bank\", \"dating\", \"valley\", \"cars\"], \"y\": [0.6264496146911739, 0.5617078476864505, 0.856168858236666, 0.726965422296389, 0.7357142857142857, 0.6334670104401916, 0.8407744046971989, 0.5577836354130359, 0.2936550035657026]}, {\"name\": \"xgboost_cat\", \"type\": \"bar\", \"x\": [\"california\", \"covtype\", \"adult\", \"ukair\", \"diabetes\", \"bank\", \"dating\", \"valley\", \"cars\"], \"y\": [0.6264496146911739, 0.5617078476864505, 0.8541009683606522, 0.7235339014148696, 0.7357142857142857, 0.6154365427419204, 0.8434007858290961, 0.5577836354130359, 0.21194748738820396]}, {\"name\": \"lightgbm_cat\", \"type\": \"bar\", \"x\": [\"california\", \"covtype\", \"adult\", \"ukair\", \"diabetes\", \"bank\", \"dating\", \"valley\", \"cars\"], \"y\": [0.6737943493533225, 0.541035297033452, 0.8592400023179649, 0.7307163376145871, 0.7409432672590568, 0.6364971950778834, 0.8438762896888475, 0.5924538166608574, 0.4645861463538315]}],                        {\"barmode\": \"group\", \"template\": {\"data\": {\"bar\": [{\"error_x\": {\"color\": \"#2a3f5f\"}, \"error_y\": {\"color\": \"#2a3f5f\"}, \"marker\": {\"line\": {\"color\": \"#E5ECF6\", \"width\": 0.5}}, \"type\": \"bar\"}], \"barpolar\": [{\"marker\": {\"line\": {\"color\": \"#E5ECF6\", \"width\": 0.5}}, \"type\": \"barpolar\"}], \"carpet\": [{\"aaxis\": {\"endlinecolor\": \"#2a3f5f\", \"gridcolor\": \"white\", \"linecolor\": \"white\", \"minorgridcolor\": \"white\", \"startlinecolor\": \"#2a3f5f\"}, \"baxis\": {\"endlinecolor\": \"#2a3f5f\", \"gridcolor\": \"white\", \"linecolor\": \"white\", \"minorgridcolor\": \"white\", \"startlinecolor\": \"#2a3f5f\"}, \"type\": \"carpet\"}], \"choropleth\": [{\"colorbar\": {\"outlinewidth\": 0, \"ticks\": \"\"}, \"type\": \"choropleth\"}], \"contour\": [{\"colorbar\": {\"outlinewidth\": 0, \"ticks\": \"\"}, \"colorscale\": [[0.0, \"#0d0887\"], [0.1111111111111111, \"#46039f\"], [0.2222222222222222, \"#7201a8\"], [0.3333333333333333, \"#9c179e\"], [0.4444444444444444, \"#bd3786\"], [0.5555555555555556, \"#d8576b\"], [0.6666666666666666, \"#ed7953\"], [0.7777777777777778, \"#fb9f3a\"], [0.8888888888888888, \"#fdca26\"], [1.0, \"#f0f921\"]], \"type\": \"contour\"}], \"contourcarpet\": [{\"colorbar\": {\"outlinewidth\": 0, \"ticks\": \"\"}, \"type\": \"contourcarpet\"}], \"heatmap\": [{\"colorbar\": {\"outlinewidth\": 0, \"ticks\": \"\"}, \"colorscale\": [[0.0, \"#0d0887\"], [0.1111111111111111, \"#46039f\"], [0.2222222222222222, \"#7201a8\"], [0.3333333333333333, \"#9c179e\"], [0.4444444444444444, \"#bd3786\"], [0.5555555555555556, \"#d8576b\"], [0.6666666666666666, \"#ed7953\"], [0.7777777777777778, \"#fb9f3a\"], [0.8888888888888888, \"#fdca26\"], [1.0, \"#f0f921\"]], \"type\": \"heatmap\"}], \"heatmapgl\": [{\"colorbar\": {\"outlinewidth\": 0, \"ticks\": \"\"}, \"colorscale\": [[0.0, \"#0d0887\"], [0.1111111111111111, \"#46039f\"], [0.2222222222222222, \"#7201a8\"], [0.3333333333333333, \"#9c179e\"], [0.4444444444444444, \"#bd3786\"], [0.5555555555555556, \"#d8576b\"], [0.6666666666666666, \"#ed7953\"], [0.7777777777777778, \"#fb9f3a\"], [0.8888888888888888, \"#fdca26\"], [1.0, \"#f0f921\"]], \"type\": \"heatmapgl\"}], \"histogram\": [{\"marker\": {\"colorbar\": {\"outlinewidth\": 0, \"ticks\": \"\"}}, \"type\": \"histogram\"}], \"histogram2d\": [{\"colorbar\": {\"outlinewidth\": 0, \"ticks\": \"\"}, \"colorscale\": [[0.0, \"#0d0887\"], [0.1111111111111111, \"#46039f\"], [0.2222222222222222, \"#7201a8\"], [0.3333333333333333, \"#9c179e\"], [0.4444444444444444, \"#bd3786\"], [0.5555555555555556, \"#d8576b\"], [0.6666666666666666, \"#ed7953\"], [0.7777777777777778, \"#fb9f3a\"], [0.8888888888888888, \"#fdca26\"], [1.0, \"#f0f921\"]], \"type\": \"histogram2d\"}], \"histogram2dcontour\": [{\"colorbar\": {\"outlinewidth\": 0, \"ticks\": \"\"}, \"colorscale\": [[0.0, \"#0d0887\"], [0.1111111111111111, \"#46039f\"], [0.2222222222222222, \"#7201a8\"], [0.3333333333333333, \"#9c179e\"], [0.4444444444444444, \"#bd3786\"], [0.5555555555555556, \"#d8576b\"], [0.6666666666666666, \"#ed7953\"], [0.7777777777777778, \"#fb9f3a\"], [0.8888888888888888, \"#fdca26\"], [1.0, \"#f0f921\"]], \"type\": \"histogram2dcontour\"}], \"mesh3d\": [{\"colorbar\": {\"outlinewidth\": 0, \"ticks\": \"\"}, \"type\": \"mesh3d\"}], \"parcoords\": [{\"line\": {\"colorbar\": {\"outlinewidth\": 0, \"ticks\": \"\"}}, \"type\": \"parcoords\"}], \"pie\": [{\"automargin\": true, \"type\": \"pie\"}], \"scatter\": [{\"marker\": {\"colorbar\": {\"outlinewidth\": 0, \"ticks\": \"\"}}, \"type\": \"scatter\"}], \"scatter3d\": [{\"line\": {\"colorbar\": {\"outlinewidth\": 0, \"ticks\": \"\"}}, \"marker\": {\"colorbar\": {\"outlinewidth\": 0, \"ticks\": \"\"}}, \"type\": \"scatter3d\"}], \"scattercarpet\": [{\"marker\": {\"colorbar\": {\"outlinewidth\": 0, \"ticks\": \"\"}}, \"type\": \"scattercarpet\"}], \"scattergeo\": [{\"marker\": {\"colorbar\": {\"outlinewidth\": 0, \"ticks\": \"\"}}, \"type\": \"scattergeo\"}], \"scattergl\": [{\"marker\": {\"colorbar\": {\"outlinewidth\": 0, \"ticks\": \"\"}}, \"type\": \"scattergl\"}], \"scattermapbox\": [{\"marker\": {\"colorbar\": {\"outlinewidth\": 0, \"ticks\": \"\"}}, \"type\": \"scattermapbox\"}], \"scatterpolar\": [{\"marker\": {\"colorbar\": {\"outlinewidth\": 0, \"ticks\": \"\"}}, \"type\": \"scatterpolar\"}], \"scatterpolargl\": [{\"marker\": {\"colorbar\": {\"outlinewidth\": 0, \"ticks\": \"\"}}, \"type\": \"scatterpolargl\"}], \"scatterternary\": [{\"marker\": {\"colorbar\": {\"outlinewidth\": 0, \"ticks\": \"\"}}, \"type\": \"scatterternary\"}], \"surface\": [{\"colorbar\": {\"outlinewidth\": 0, \"ticks\": \"\"}, \"colorscale\": [[0.0, \"#0d0887\"], [0.1111111111111111, \"#46039f\"], [0.2222222222222222, \"#7201a8\"], [0.3333333333333333, \"#9c179e\"], [0.4444444444444444, \"#bd3786\"], [0.5555555555555556, \"#d8576b\"], [0.6666666666666666, \"#ed7953\"], [0.7777777777777778, \"#fb9f3a\"], [0.8888888888888888, \"#fdca26\"], [1.0, \"#f0f921\"]], \"type\": \"surface\"}], \"table\": [{\"cells\": {\"fill\": {\"color\": \"#EBF0F8\"}, \"line\": {\"color\": \"white\"}}, \"header\": {\"fill\": {\"color\": \"#C8D4E3\"}, \"line\": {\"color\": \"white\"}}, \"type\": \"table\"}]}, \"layout\": {\"annotationdefaults\": {\"arrowcolor\": \"#2a3f5f\", \"arrowhead\": 0, \"arrowwidth\": 1}, \"autotypenumbers\": \"strict\", \"coloraxis\": {\"colorbar\": {\"outlinewidth\": 0, \"ticks\": \"\"}}, \"colorscale\": {\"diverging\": [[0, \"#8e0152\"], [0.1, \"#c51b7d\"], [0.2, \"#de77ae\"], [0.3, \"#f1b6da\"], [0.4, \"#fde0ef\"], [0.5, \"#f7f7f7\"], [0.6, \"#e6f5d0\"], [0.7, \"#b8e186\"], [0.8, \"#7fbc41\"], [0.9, \"#4d9221\"], [1, \"#276419\"]], \"sequential\": [[0.0, \"#0d0887\"], [0.1111111111111111, \"#46039f\"], [0.2222222222222222, \"#7201a8\"], [0.3333333333333333, \"#9c179e\"], [0.4444444444444444, \"#bd3786\"], [0.5555555555555556, \"#d8576b\"], [0.6666666666666666, \"#ed7953\"], [0.7777777777777778, \"#fb9f3a\"], [0.8888888888888888, \"#fdca26\"], [1.0, \"#f0f921\"]], \"sequentialminus\": [[0.0, \"#0d0887\"], [0.1111111111111111, \"#46039f\"], [0.2222222222222222, \"#7201a8\"], [0.3333333333333333, \"#9c179e\"], [0.4444444444444444, \"#bd3786\"], [0.5555555555555556, \"#d8576b\"], [0.6666666666666666, \"#ed7953\"], [0.7777777777777778, \"#fb9f3a\"], [0.8888888888888888, \"#fdca26\"], [1.0, \"#f0f921\"]]}, \"colorway\": [\"#636efa\", \"#EF553B\", \"#00cc96\", \"#ab63fa\", \"#FFA15A\", \"#19d3f3\", \"#FF6692\", \"#B6E880\", \"#FF97FF\", \"#FECB52\"], \"font\": {\"color\": \"#2a3f5f\"}, \"geo\": {\"bgcolor\": \"white\", \"lakecolor\": \"white\", \"landcolor\": \"#E5ECF6\", \"showlakes\": true, \"showland\": true, \"subunitcolor\": \"white\"}, \"hoverlabel\": {\"align\": \"left\"}, \"hovermode\": \"closest\", \"mapbox\": {\"style\": \"light\"}, \"paper_bgcolor\": \"white\", \"plot_bgcolor\": \"#E5ECF6\", \"polar\": {\"angularaxis\": {\"gridcolor\": \"white\", \"linecolor\": \"white\", \"ticks\": \"\"}, \"bgcolor\": \"#E5ECF6\", \"radialaxis\": {\"gridcolor\": \"white\", \"linecolor\": \"white\", \"ticks\": \"\"}}, \"scene\": {\"xaxis\": {\"backgroundcolor\": \"#E5ECF6\", \"gridcolor\": \"white\", \"gridwidth\": 2, \"linecolor\": \"white\", \"showbackground\": true, \"ticks\": \"\", \"zerolinecolor\": \"white\"}, \"yaxis\": {\"backgroundcolor\": \"#E5ECF6\", \"gridcolor\": \"white\", \"gridwidth\": 2, \"linecolor\": \"white\", \"showbackground\": true, \"ticks\": \"\", \"zerolinecolor\": \"white\"}, \"zaxis\": {\"backgroundcolor\": \"#E5ECF6\", \"gridcolor\": \"white\", \"gridwidth\": 2, \"linecolor\": \"white\", \"showbackground\": true, \"ticks\": \"\", \"zerolinecolor\": \"white\"}}, \"shapedefaults\": {\"line\": {\"color\": \"#2a3f5f\"}}, \"ternary\": {\"aaxis\": {\"gridcolor\": \"white\", \"linecolor\": \"white\", \"ticks\": \"\"}, \"baxis\": {\"gridcolor\": \"white\", \"linecolor\": \"white\", \"ticks\": \"\"}, \"bgcolor\": \"#E5ECF6\", \"caxis\": {\"gridcolor\": \"white\", \"linecolor\": \"white\", \"ticks\": \"\"}}, \"title\": {\"x\": 0.05}, \"xaxis\": {\"automargin\": true, \"gridcolor\": \"white\", \"linecolor\": \"white\", \"ticks\": \"\", \"title\": {\"standoff\": 15}, \"zerolinecolor\": \"white\", \"zerolinewidth\": 2}, \"yaxis\": {\"automargin\": true, \"gridcolor\": \"white\", \"linecolor\": \"white\", \"ticks\": \"\", \"title\": {\"standoff\": 15}, \"zerolinecolor\": \"white\", \"zerolinewidth\": 2}}}},                        {\"responsive\": true}                    ).then(function(){\n",
       "                            \n",
       "var gd = document.getElementById('bb4f19df-c4b4-45b8-ba19-5add08c5356e');\n",
       "var x = new MutationObserver(function (mutations, observer) {{\n",
       "        var display = window.getComputedStyle(gd).display;\n",
       "        if (!display || display === 'none') {{\n",
       "            console.log([gd, 'removed!']);\n",
       "            Plotly.purge(gd);\n",
       "            observer.disconnect();\n",
       "        }}\n",
       "}});\n",
       "\n",
       "// Listen for the removal of the full notebook cells\n",
       "var notebookContainer = gd.closest('#notebook-container');\n",
       "if (notebookContainer) {{\n",
       "    x.observe(notebookContainer, {childList: true});\n",
       "}}\n",
       "\n",
       "// Listen for the clearing of the current output cell\n",
       "var outputEl = gd.closest('.output');\n",
       "if (outputEl) {{\n",
       "    x.observe(outputEl, {childList: true});\n",
       "}}\n",
       "\n",
       "                        })                };                });            </script>        </div>"
      ]
     },
     "metadata": {},
     "output_type": "display_data"
    }
   ],
   "source": [
    "import plotly.graph_objects as go\n",
    "\n",
    "fig = go.Figure(data=[\n",
    "    go.Bar(name=\"catboost\", x=list(perf_comparisons.keys()), y=catboost_performance),\n",
    "    go.Bar(name=\"lightgbm\", x=list(perf_comparisons.keys()), y=lightgbm_performance),\n",
    "    go.Bar(name=\"xgboost\", x=list(perf_comparisons.keys()), y=xgboost_performance),\n",
    "    go.Bar(name=\"xgboost_cat\", x=list(perf_comparisons.keys()), y=xgboost_cat_performance),\n",
    "    go.Bar(name=\"lightgbm_cat\", x=list(perf_comparisons.keys()), y=lightgbm_cat_performance)\n",
    "           ])\n",
    "# Change the bar mode\n",
    "fig.update_layout(barmode='group')\n",
    "fig.show()"
   ]
  },
  {
   "cell_type": "code",
   "execution_count": null,
   "id": "premium-reserve",
   "metadata": {},
   "outputs": [],
   "source": []
  }
 ],
 "metadata": {
  "hide_input": false,
  "kernelspec": {
   "display_name": "Python 3",
   "language": "python",
   "name": "python3"
  },
  "language_info": {
   "codemirror_mode": {
    "name": "ipython",
    "version": 3
   },
   "file_extension": ".py",
   "mimetype": "text/x-python",
   "name": "python",
   "nbconvert_exporter": "python",
   "pygments_lexer": "ipython3",
   "version": "3.8.6"
  },
  "toc": {
   "base_numbering": 1,
   "nav_menu": {},
   "number_sections": true,
   "sideBar": true,
   "skip_h1_title": false,
   "title_cell": "Table of Contents",
   "title_sidebar": "Contents",
   "toc_cell": false,
   "toc_position": {},
   "toc_section_display": true,
   "toc_window_display": false
  },
  "varInspector": {
   "cols": {
    "lenName": 16,
    "lenType": 16,
    "lenVar": 40
   },
   "kernels_config": {
    "python": {
     "delete_cmd_postfix": "",
     "delete_cmd_prefix": "del ",
     "library": "var_list.py",
     "varRefreshCmd": "print(var_dic_list())"
    },
    "r": {
     "delete_cmd_postfix": ") ",
     "delete_cmd_prefix": "rm(",
     "library": "var_list.r",
     "varRefreshCmd": "cat(var_dic_list()) "
    }
   },
   "types_to_exclude": [
    "module",
    "function",
    "builtin_function_or_method",
    "instance",
    "_Feature"
   ],
   "window_display": false
  }
 },
 "nbformat": 4,
 "nbformat_minor": 5
}
